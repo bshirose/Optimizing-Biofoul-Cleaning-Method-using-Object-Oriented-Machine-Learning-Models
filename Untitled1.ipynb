{
 "cells": [
  {
   "cell_type": "code",
   "execution_count": 2,
   "id": "ad668126",
   "metadata": {},
   "outputs": [],
   "source": [
    "import numpy as np\n",
    "from PIL import Image\n",
    "import glob\n",
    "import matplotlib.pyplot as plt\n",
    "import pickle\n",
    "import scipy.io\n",
    "from ipynb.fs.defs.untitled import *\n",
    "import random\n",
    "import numpy as np\n",
    "import cv2 as cv\n",
    "import os\n",
    "import IPython\n",
    "from scipy.spatial.distance import cdist\n",
    "import copy\n",
    "from skimage.color import rgb2gray\n",
    "from scipy import ndimage\n",
    "from skimage import io\n",
    "import random\n",
    "import matplotlib.pyplot as plt\n",
    "from tqdm import tqdm\n",
    "import cv2 as cv\n",
    "sift = cv.SIFT_create()"
   ]
  },
  {
   "cell_type": "code",
   "execution_count": 2,
   "id": "54efc2ca",
   "metadata": {},
   "outputs": [
    {
     "name": "stdout",
     "output_type": "stream",
     "text": [
      "907\n",
      "1977\n"
     ]
    }
   ],
   "source": [
    "train_x=[]\n",
    "i=0\n",
    "for filename in glob.glob('./train/barnacles/*.jpg'): \n",
    "    im=Image.open(filename)\n",
    "    im=im.resize((200,200))\n",
    "    im=np.array(im)\n",
    "    train_x.append(im)\n",
    "print(len(train_x))\n",
    "for filename in glob.glob('./train/non_barnacles/*.jpg'):\n",
    "    im=Image.open(filename)\n",
    "    im=im.resize((200,200))\n",
    "    im=np.array(im)\n",
    "    train_x.append(im)\n",
    "print(len(train_x))\n",
    "train_x=np.array(train_x)"
   ]
  },
  {
   "cell_type": "code",
   "execution_count": 3,
   "id": "7e6b65d8",
   "metadata": {},
   "outputs": [],
   "source": [
    "train_y=[]\n",
    "transy=[]\n",
    "for i in range(907):\n",
    "    train_y.append(np.array((1,0)))\n",
    "    transy.append(1)\n",
    "for i in range(1977-907):\n",
    "    train_y.append(np.array((0,1)))\n",
    "    transy.append(0)\n",
    "train_y=np.array(train_y)\n",
    "trainsy=np.array(transy)"
   ]
  },
  {
   "cell_type": "code",
   "execution_count": 4,
   "id": "0d3595d5",
   "metadata": {},
   "outputs": [],
   "source": [
    "valid_x=[]\n",
    "i=0\n",
    "for filename in glob.glob('./val/barnacles/*.jpg'): #assuming gif\n",
    "    im=Image.open(filename)\n",
    "    im=im.resize((200,200))\n",
    "    a=copy.copy(im)\n",
    "    im=np.array(im)\n",
    "    valid_x.append(im)\n",
    "for filename in glob.glob('./val/non_barnacles/*.jpg'):\n",
    "    im=Image.open(filename)\n",
    "    im=im.resize((200,200))\n",
    "    im=np.array(im)\n",
    "    valid_x.append(im)\n",
    "valid_x=np.array(valid_x)"
   ]
  },
  {
   "cell_type": "code",
   "execution_count": 5,
   "id": "20c9e9bb",
   "metadata": {},
   "outputs": [
    {
     "data": {
      "text/plain": [
       "(470, 200, 200, 3)"
      ]
     },
     "execution_count": 5,
     "metadata": {},
     "output_type": "execute_result"
    }
   ],
   "source": [
    "valid_x.shape"
   ]
  },
  {
   "cell_type": "code",
   "execution_count": 5,
   "id": "aa90f2dd",
   "metadata": {},
   "outputs": [],
   "source": [
    "valid_y=[]\n",
    "validsy=[]\n",
    "for i in range(203):\n",
    "    valid_y.append(np.array((1,0)))\n",
    "    validsy.append(1)\n",
    "for i in range(470-203):\n",
    "    valid_y.append(np.array((0,1)))\n",
    "    validsy.append(0)\n",
    "validsy=np.array(validsy)\n",
    "valid_y=np.array(valid_y)"
   ]
  },
  {
   "cell_type": "code",
   "execution_count": 7,
   "id": "c9843d3e",
   "metadata": {},
   "outputs": [
    {
     "data": {
      "text/plain": [
       "(470, 2)"
      ]
     },
     "execution_count": 7,
     "metadata": {},
     "output_type": "execute_result"
    }
   ],
   "source": [
    "valid_y.shape"
   ]
  },
  {
   "cell_type": "code",
   "execution_count": 6,
   "id": "364b2391",
   "metadata": {},
   "outputs": [],
   "source": [
    "def rlocs(im):\n",
    "    gray = cv.cvtColor(im,cv.COLOR_BGR2GRAY)\n",
    "    gray = np.float32(gray)\n",
    "    dst = cv.cornerHarris(gray,2,3,0.04)\n",
    "    dst = cv.dilate(dst,None)\n",
    "    locs=[]\n",
    "    for i in range(gray.shape[0]):\n",
    "        for j in range(gray.shape[1]):\n",
    "            if dst[i][j]>0.2*dst.max():\n",
    "                gray[i][j]=1\n",
    "                locs.append(np.array([i,j]))\n",
    "            #else:\n",
    "             #   gray[i][j]=0\n",
    "    return np.array(locs),gray"
   ]
  },
  {
   "cell_type": "code",
   "execution_count": 7,
   "id": "6bf755a6",
   "metadata": {},
   "outputs": [],
   "source": [
    "def computeBrief(im, locs, compareX, compareY):\n",
    "\n",
    "    c=[]\n",
    "    rub=np.ones((9,9))\n",
    "    for i in range(locs.shape[0]):\n",
    "        new=[]\n",
    "        a=im[int(locs[i][0])-4-1:int(locs[i][0])+4,int(locs[i][1])-4-1:int(locs[i][1])+4]\n",
    "        if a.shape[0]>8: \n",
    "            if a.shape[1]>8: \n",
    "                for j in range(compareX.shape[0]):\n",
    "                    if a[int(compareX[j][0]//9)][int(compareX[j][0]%9)]<a[int(compareY[j][0]//9)][int(compareY[j][0]%9)]:\n",
    "                        new.append(1)\n",
    "                    else:\n",
    "                        new.append(0)\n",
    "        if (len(new)>0):\n",
    "            c.append(new)\n",
    "        if (len(c)>50):\n",
    "            break\n",
    "\n",
    "    desc=np.array(c)\n",
    "\n",
    "    return desc"
   ]
  },
  {
   "cell_type": "code",
   "execution_count": 8,
   "id": "b2cd1b5b",
   "metadata": {},
   "outputs": [],
   "source": [
    "def makeTestPattern(patch_width=9, nbits=256):\n",
    "    a=[]\n",
    "    b=[]\n",
    "    c=patch_width*patch_width\n",
    "    for i in range(nbits):\n",
    "        a1=np.random.rand()\n",
    "        a1=a1*c\n",
    "        a1=a1//1\n",
    "        a1=a1%c\n",
    "        a.append(a1)\n",
    "        a2=np.random.rand()\n",
    "        a2=a2*c\n",
    "        a2=a2//1\n",
    "        a2=a2%c\n",
    "        b.append(a2)\n",
    "    a=np.array(a)\n",
    "    b=np.array(b)\n",
    "    compareX=a.reshape(nbits,1)\n",
    "    compareY=b.reshape(nbits,1)\n",
    "\n",
    "    np.save('testPattern.npy', [compareX, compareY])\n",
    "    return  compareX, compareY"
   ]
  },
  {
   "cell_type": "code",
   "execution_count": 9,
   "id": "ee561624",
   "metadata": {},
   "outputs": [],
   "source": [
    "compareX, compareY = makeTestPattern(patch_width=9, nbits=256)"
   ]
  },
  {
   "cell_type": "code",
   "execution_count": 10,
   "id": "d05c49fb",
   "metadata": {},
   "outputs": [],
   "source": [
    "def main(train_x,train_y,compareX, compareY):\n",
    "    traindesc=[]\n",
    "    trainy=[]\n",
    "    for i in tqdm(range(train_x.shape[0])):\n",
    "        locs,gray=rlocs(train_x[i])\n",
    "        desc=computeBrief(gray, locs, compareX, compareY)\n",
    "        if desc.shape[0]>49:\n",
    "            traindesc.append(desc.flatten())\n",
    "            trainy.append(train_y[i])\n",
    "    return np.array(traindesc),np.array(trainy)"
   ]
  },
  {
   "cell_type": "code",
   "execution_count": 29,
   "id": "c846a3cf",
   "metadata": {},
   "outputs": [],
   "source": [
    "train_x[1072]=train_x[1071]\n",
    "train_x[1169]=train_x[1168]\n",
    "train_x[1329]=train_x[1328]\n",
    "train_x[1141]=train_x[1140]\n",
    "train_x[1238]=train_x[1239]\n",
    "train_x[1378]=train_x[1379]"
   ]
  },
  {
   "cell_type": "code",
   "execution_count": 30,
   "id": "ad51e1eb",
   "metadata": {},
   "outputs": [],
   "source": [
    "def mains(train_x,train_y,compareX, compareY):\n",
    "    traindesc=[]\n",
    "    trainy=[]\n",
    "    for i in tqdm(range(train_x.shape[0])):\n",
    "        gray= cv.cvtColor(train_x[i],cv.COLOR_BGR2GRAY)\n",
    "        #locs,gray=rlocs(train_x[i])\n",
    "        #print(i)\n",
    "        #desc=computeBrief(gray, locs, compareX, compareY)\n",
    "        kp, des = sift.detectAndCompute(gray,None)\n",
    "        #print(i)\n",
    "        if des.any()!=None:\n",
    "            if des.shape[0]>499:\n",
    "                desc=des[0:500,:]\n",
    "        \n",
    "        #if desc.shape[0]>100:\n",
    "                traindesc.append(desc.flatten())\n",
    "                trainy.append(train_y[i])\n",
    "    return np.array(traindesc),np.array(trainy)"
   ]
  },
  {
   "cell_type": "code",
   "execution_count": 98,
   "id": "30870c68",
   "metadata": {},
   "outputs": [
    {
     "name": "stderr",
     "output_type": "stream",
     "text": [
      "100%|██████████████████████████████████████████████████████████████████████████████| 1977/1977 [09:45<00:00,  3.38it/s]\n"
     ]
    }
   ],
   "source": [
    "traindesc,trainy=main(train_x,trainsy,compareX, compareY)"
   ]
  },
  {
   "cell_type": "code",
   "execution_count": 100,
   "id": "c194e573",
   "metadata": {},
   "outputs": [],
   "source": [
    "np.save('zerobrieftraindesc.npy',traindesc)\n",
    "np.save('zerobrieftrainy.npy',trainy)"
   ]
  },
  {
   "cell_type": "code",
   "execution_count": 8,
   "id": "04464e3a",
   "metadata": {},
   "outputs": [],
   "source": [
    "traindesc=np.load('zerosifttraindesc.npy')\n",
    "trainy=np.load('zerosifttrainy.npy')\n",
    "validxdesc=np.load('zerosifttestdesc.npy')\n",
    "validy=np.load('zerosifttestny.npy')"
   ]
  },
  {
   "cell_type": "code",
   "execution_count": 101,
   "id": "a9cc3585",
   "metadata": {},
   "outputs": [],
   "source": [
    "np.save('zerobrieftestdesc.npy',validxdesc)\n",
    "np.save('zerobrieftestny.npy',validy)"
   ]
  },
  {
   "cell_type": "code",
   "execution_count": 21,
   "id": "bcebbe72",
   "metadata": {},
   "outputs": [],
   "source": [
    "traindesc=np.load('zerobrieftraindesc.npy')\n",
    "trainy=np.load('zerobrieftrainy.npy')\n",
    "validxdesc=np.load('zerobrieftestdesc.npy')\n",
    "validy=np.load('zerobrieftestny.npy')"
   ]
  },
  {
   "cell_type": "code",
   "execution_count": 68,
   "id": "5a4be57c",
   "metadata": {},
   "outputs": [
    {
     "data": {
      "text/plain": [
       "<matplotlib.image.AxesImage at 0x25eb8ef6380>"
      ]
     },
     "execution_count": 68,
     "metadata": {},
     "output_type": "execute_result"
    },
    {
     "data": {
      "image/png": "[encoded data removed]",
      "text/plain": [
       "<Figure size 432x288 with 1 Axes>"
      ]
     },
     "metadata": {
      "needs_background": "light"
     },
     "output_type": "display_data"
    }
   ],
   "source": [
    "import numpy as np\n",
    "import cv2 as cv\n",
    "#img = cv.imread('home.jpg')\n",
    "gray= cv.cvtColor(ttt,cv.COLOR_BGR2GRAY)\n",
    "sift = cv.SIFT_create()\n",
    "kp = sift.detect(gray,None)\n",
    "img=cv.drawKeypoints(ttt,kp,ttt)\n",
    "#cv.imwrite('sift_keypoints.jpg',img)\n",
    "plt.imshow(img)"
   ]
  },
  {
   "cell_type": "code",
   "execution_count": 99,
   "id": "0650e44d",
   "metadata": {},
   "outputs": [
    {
     "name": "stderr",
     "output_type": "stream",
     "text": [
      "100%|████████████████████████████████████████████████████████████████████████████████| 470/470 [02:24<00:00,  3.25it/s]\n"
     ]
    }
   ],
   "source": [
    "validxdesc,validy=main(valid_x,validsy,compareX, compareY)"
   ]
  },
  {
   "cell_type": "markdown",
   "id": "1ae041f2",
   "metadata": {},
   "source": [
    "## svm sift"
   ]
  },
  {
   "cell_type": "code",
   "execution_count": 103,
   "id": "b2431b37",
   "metadata": {},
   "outputs": [
    {
     "data": {
      "text/html": [
       "<style>#sk-container-id-1 {color: black;background-color: white;}#sk-container-id-1 pre{padding: 0;}#sk-container-id-1 div.sk-toggleable {background-color: white;}#sk-container-id-1 label.sk-toggleable__label {cursor: pointer;display: block;width: 100%;margin-bottom: 0;padding: 0.3em;box-sizing: border-box;text-align: center;}#sk-container-id-1 label.sk-toggleable__label-arrow:before {content: \"▸\";float: left;margin-right: 0.25em;color: #696969;}#sk-container-id-1 label.sk-toggleable__label-arrow:hover:before {color: black;}#sk-container-id-1 div.sk-estimator:hover label.sk-toggleable__label-arrow:before {color: black;}#sk-container-id-1 div.sk-toggleable__content {max-height: 0;max-width: 0;overflow: hidden;text-align: left;background-color: #f0f8ff;}#sk-container-id-1 div.sk-toggleable__content pre {margin: 0.2em;color: black;border-radius: 0.25em;background-color: #f0f8ff;}#sk-container-id-1 input.sk-toggleable__control:checked~div.sk-toggleable__content {max-height: 200px;max-width: 100%;overflow: auto;}#sk-container-id-1 input.sk-toggleable__control:checked~label.sk-toggleable__label-arrow:before {content: \"▾\";}#sk-container-id-1 div.sk-estimator input.sk-toggleable__control:checked~label.sk-toggleable__label {background-color: #d4ebff;}#sk-container-id-1 div.sk-label input.sk-toggleable__control:checked~label.sk-toggleable__label {background-color: #d4ebff;}#sk-container-id-1 input.sk-hidden--visually {border: 0;clip: rect(1px 1px 1px 1px);clip: rect(1px, 1px, 1px, 1px);height: 1px;margin: -1px;overflow: hidden;padding: 0;position: absolute;width: 1px;}#sk-container-id-1 div.sk-estimator {font-family: monospace;background-color: #f0f8ff;border: 1px dotted black;border-radius: 0.25em;box-sizing: border-box;margin-bottom: 0.5em;}#sk-container-id-1 div.sk-estimator:hover {background-color: #d4ebff;}#sk-container-id-1 div.sk-parallel-item::after {content: \"\";width: 100%;border-bottom: 1px solid gray;flex-grow: 1;}#sk-container-id-1 div.sk-label:hover label.sk-toggleable__label {background-color: #d4ebff;}#sk-container-id-1 div.sk-serial::before {content: \"\";position: absolute;border-left: 1px solid gray;box-sizing: border-box;top: 0;bottom: 0;left: 50%;z-index: 0;}#sk-container-id-1 div.sk-serial {display: flex;flex-direction: column;align-items: center;background-color: white;padding-right: 0.2em;padding-left: 0.2em;position: relative;}#sk-container-id-1 div.sk-item {position: relative;z-index: 1;}#sk-container-id-1 div.sk-parallel {display: flex;align-items: stretch;justify-content: center;background-color: white;position: relative;}#sk-container-id-1 div.sk-item::before, #sk-container-id-1 div.sk-parallel-item::before {content: \"\";position: absolute;border-left: 1px solid gray;box-sizing: border-box;top: 0;bottom: 0;left: 50%;z-index: -1;}#sk-container-id-1 div.sk-parallel-item {display: flex;flex-direction: column;z-index: 1;position: relative;background-color: white;}#sk-container-id-1 div.sk-parallel-item:first-child::after {align-self: flex-end;width: 50%;}#sk-container-id-1 div.sk-parallel-item:last-child::after {align-self: flex-start;width: 50%;}#sk-container-id-1 div.sk-parallel-item:only-child::after {width: 0;}#sk-container-id-1 div.sk-dashed-wrapped {border: 1px dashed gray;margin: 0 0.4em 0.5em 0.4em;box-sizing: border-box;padding-bottom: 0.4em;background-color: white;}#sk-container-id-1 div.sk-label label {font-family: monospace;font-weight: bold;display: inline-block;line-height: 1.2em;}#sk-container-id-1 div.sk-label-container {text-align: center;}#sk-container-id-1 div.sk-container {/* jupyter's `normalize.less` sets `[hidden] { display: none; }` but bootstrap.min.css set `[hidden] { display: none !important; }` so we also need the `!important` here to be able to override the default hidden behavior on the sphinx rendered scikit-learn.org. See: https://github.com/scikit-learn/scikit-learn/issues/21755 */display: inline-block !important;position: relative;}#sk-container-id-1 div.sk-text-repr-fallback {display: none;}</style><div id=\"sk-container-id-1\" class=\"sk-top-container\"><div class=\"sk-text-repr-fallback\"><pre>Pipeline(steps=[(&#x27;standardscaler&#x27;, StandardScaler()),\n",
       "                (&#x27;svc&#x27;, SVC(gamma=&#x27;auto&#x27;))])</pre><b>In a Jupyter environment, please rerun this cell to show the HTML representation or trust the notebook. <br />On GitHub, the HTML representation is unable to render, please try loading this page with nbviewer.org.</b></div><div class=\"sk-container\" hidden><div class=\"sk-item sk-dashed-wrapped\"><div class=\"sk-label-container\"><div class=\"sk-label sk-toggleable\"><input class=\"sk-toggleable__control sk-hidden--visually\" id=\"sk-estimator-id-1\" type=\"checkbox\" ><label for=\"sk-estimator-id-1\" class=\"sk-toggleable__label sk-toggleable__label-arrow\">Pipeline</label><div class=\"sk-toggleable__content\"><pre>Pipeline(steps=[(&#x27;standardscaler&#x27;, StandardScaler()),\n",
       "                (&#x27;svc&#x27;, SVC(gamma=&#x27;auto&#x27;))])</pre></div></div></div><div class=\"sk-serial\"><div class=\"sk-item\"><div class=\"sk-estimator sk-toggleable\"><input class=\"sk-toggleable__control sk-hidden--visually\" id=\"sk-estimator-id-2\" type=\"checkbox\" ><label for=\"sk-estimator-id-2\" class=\"sk-toggleable__label sk-toggleable__label-arrow\">StandardScaler</label><div class=\"sk-toggleable__content\"><pre>StandardScaler()</pre></div></div></div><div class=\"sk-item\"><div class=\"sk-estimator sk-toggleable\"><input class=\"sk-toggleable__control sk-hidden--visually\" id=\"sk-estimator-id-3\" type=\"checkbox\" ><label for=\"sk-estimator-id-3\" class=\"sk-toggleable__label sk-toggleable__label-arrow\">SVC</label><div class=\"sk-toggleable__content\"><pre>SVC(gamma=&#x27;auto&#x27;)</pre></div></div></div></div></div></div></div>"
      ],
      "text/plain": [
       "Pipeline(steps=[('standardscaler', StandardScaler()),\n",
       "                ('svc', SVC(gamma='auto'))])"
      ]
     },
     "execution_count": 103,
     "metadata": {},
     "output_type": "execute_result"
    }
   ],
   "source": [
    "import numpy as np\n",
    "from sklearn.pipeline import make_pipeline\n",
    "from sklearn.preprocessing import StandardScaler\n",
    "from sklearn.svm import SVC\n",
    "clf = make_pipeline(StandardScaler(), SVC(gamma='auto'))\n",
    "clf.fit(traindesc,trainy)\n",
    "#Pipeline(steps=[('standardscaler', StandardScaler()),('svc', SVC(gamma='auto'))])\n"
   ]
  },
  {
   "cell_type": "code",
   "execution_count": 104,
   "id": "bda1b6ed",
   "metadata": {},
   "outputs": [
    {
     "data": {
      "text/plain": [
       "0.3727598566308244"
      ]
     },
     "execution_count": 104,
     "metadata": {},
     "output_type": "execute_result"
    }
   ],
   "source": [
    "a=clf.predict(validxdesc)\n",
    "a=abs(a-validy)\n",
    "s=np.sum(a)\n",
    "accsvm=s/a.shape[0]\n",
    "accsvm"
   ]
  },
  {
   "cell_type": "code",
   "execution_count": 105,
   "id": "3b9ba801",
   "metadata": {},
   "outputs": [
    {
     "data": {
      "text/plain": [
       "0.6272401433691757"
      ]
     },
     "execution_count": 105,
     "metadata": {},
     "output_type": "execute_result"
    }
   ],
   "source": [
    "1-accsvm"
   ]
  },
  {
   "cell_type": "markdown",
   "id": "b65dc84b",
   "metadata": {},
   "source": [
    " ## svm brief"
   ]
  },
  {
   "cell_type": "code",
   "execution_count": 108,
   "id": "afa597e3",
   "metadata": {},
   "outputs": [
    {
     "data": {
      "text/html": [
       "<style>#sk-container-id-2 {color: black;background-color: white;}#sk-container-id-2 pre{padding: 0;}#sk-container-id-2 div.sk-toggleable {background-color: white;}#sk-container-id-2 label.sk-toggleable__label {cursor: pointer;display: block;width: 100%;margin-bottom: 0;padding: 0.3em;box-sizing: border-box;text-align: center;}#sk-container-id-2 label.sk-toggleable__label-arrow:before {content: \"▸\";float: left;margin-right: 0.25em;color: #696969;}#sk-container-id-2 label.sk-toggleable__label-arrow:hover:before {color: black;}#sk-container-id-2 div.sk-estimator:hover label.sk-toggleable__label-arrow:before {color: black;}#sk-container-id-2 div.sk-toggleable__content {max-height: 0;max-width: 0;overflow: hidden;text-align: left;background-color: #f0f8ff;}#sk-container-id-2 div.sk-toggleable__content pre {margin: 0.2em;color: black;border-radius: 0.25em;background-color: #f0f8ff;}#sk-container-id-2 input.sk-toggleable__control:checked~div.sk-toggleable__content {max-height: 200px;max-width: 100%;overflow: auto;}#sk-container-id-2 input.sk-toggleable__control:checked~label.sk-toggleable__label-arrow:before {content: \"▾\";}#sk-container-id-2 div.sk-estimator input.sk-toggleable__control:checked~label.sk-toggleable__label {background-color: #d4ebff;}#sk-container-id-2 div.sk-label input.sk-toggleable__control:checked~label.sk-toggleable__label {background-color: #d4ebff;}#sk-container-id-2 input.sk-hidden--visually {border: 0;clip: rect(1px 1px 1px 1px);clip: rect(1px, 1px, 1px, 1px);height: 1px;margin: -1px;overflow: hidden;padding: 0;position: absolute;width: 1px;}#sk-container-id-2 div.sk-estimator {font-family: monospace;background-color: #f0f8ff;border: 1px dotted black;border-radius: 0.25em;box-sizing: border-box;margin-bottom: 0.5em;}#sk-container-id-2 div.sk-estimator:hover {background-color: #d4ebff;}#sk-container-id-2 div.sk-parallel-item::after {content: \"\";width: 100%;border-bottom: 1px solid gray;flex-grow: 1;}#sk-container-id-2 div.sk-label:hover label.sk-toggleable__label {background-color: #d4ebff;}#sk-container-id-2 div.sk-serial::before {content: \"\";position: absolute;border-left: 1px solid gray;box-sizing: border-box;top: 0;bottom: 0;left: 50%;z-index: 0;}#sk-container-id-2 div.sk-serial {display: flex;flex-direction: column;align-items: center;background-color: white;padding-right: 0.2em;padding-left: 0.2em;position: relative;}#sk-container-id-2 div.sk-item {position: relative;z-index: 1;}#sk-container-id-2 div.sk-parallel {display: flex;align-items: stretch;justify-content: center;background-color: white;position: relative;}#sk-container-id-2 div.sk-item::before, #sk-container-id-2 div.sk-parallel-item::before {content: \"\";position: absolute;border-left: 1px solid gray;box-sizing: border-box;top: 0;bottom: 0;left: 50%;z-index: -1;}#sk-container-id-2 div.sk-parallel-item {display: flex;flex-direction: column;z-index: 1;position: relative;background-color: white;}#sk-container-id-2 div.sk-parallel-item:first-child::after {align-self: flex-end;width: 50%;}#sk-container-id-2 div.sk-parallel-item:last-child::after {align-self: flex-start;width: 50%;}#sk-container-id-2 div.sk-parallel-item:only-child::after {width: 0;}#sk-container-id-2 div.sk-dashed-wrapped {border: 1px dashed gray;margin: 0 0.4em 0.5em 0.4em;box-sizing: border-box;padding-bottom: 0.4em;background-color: white;}#sk-container-id-2 div.sk-label label {font-family: monospace;font-weight: bold;display: inline-block;line-height: 1.2em;}#sk-container-id-2 div.sk-label-container {text-align: center;}#sk-container-id-2 div.sk-container {/* jupyter's `normalize.less` sets `[hidden] { display: none; }` but bootstrap.min.css set `[hidden] { display: none !important; }` so we also need the `!important` here to be able to override the default hidden behavior on the sphinx rendered scikit-learn.org. See: https://github.com/scikit-learn/scikit-learn/issues/21755 */display: inline-block !important;position: relative;}#sk-container-id-2 div.sk-text-repr-fallback {display: none;}</style><div id=\"sk-container-id-2\" class=\"sk-top-container\"><div class=\"sk-text-repr-fallback\"><pre>Pipeline(steps=[(&#x27;standardscaler&#x27;, StandardScaler()),\n",
       "                (&#x27;svc&#x27;, SVC(gamma=&#x27;auto&#x27;))])</pre><b>In a Jupyter environment, please rerun this cell to show the HTML representation or trust the notebook. <br />On GitHub, the HTML representation is unable to render, please try loading this page with nbviewer.org.</b></div><div class=\"sk-container\" hidden><div class=\"sk-item sk-dashed-wrapped\"><div class=\"sk-label-container\"><div class=\"sk-label sk-toggleable\"><input class=\"sk-toggleable__control sk-hidden--visually\" id=\"sk-estimator-id-4\" type=\"checkbox\" ><label for=\"sk-estimator-id-4\" class=\"sk-toggleable__label sk-toggleable__label-arrow\">Pipeline</label><div class=\"sk-toggleable__content\"><pre>Pipeline(steps=[(&#x27;standardscaler&#x27;, StandardScaler()),\n",
       "                (&#x27;svc&#x27;, SVC(gamma=&#x27;auto&#x27;))])</pre></div></div></div><div class=\"sk-serial\"><div class=\"sk-item\"><div class=\"sk-estimator sk-toggleable\"><input class=\"sk-toggleable__control sk-hidden--visually\" id=\"sk-estimator-id-5\" type=\"checkbox\" ><label for=\"sk-estimator-id-5\" class=\"sk-toggleable__label sk-toggleable__label-arrow\">StandardScaler</label><div class=\"sk-toggleable__content\"><pre>StandardScaler()</pre></div></div></div><div class=\"sk-item\"><div class=\"sk-estimator sk-toggleable\"><input class=\"sk-toggleable__control sk-hidden--visually\" id=\"sk-estimator-id-6\" type=\"checkbox\" ><label for=\"sk-estimator-id-6\" class=\"sk-toggleable__label sk-toggleable__label-arrow\">SVC</label><div class=\"sk-toggleable__content\"><pre>SVC(gamma=&#x27;auto&#x27;)</pre></div></div></div></div></div></div></div>"
      ],
      "text/plain": [
       "Pipeline(steps=[('standardscaler', StandardScaler()),\n",
       "                ('svc', SVC(gamma='auto'))])"
      ]
     },
     "execution_count": 108,
     "metadata": {},
     "output_type": "execute_result"
    }
   ],
   "source": [
    "import numpy as np\n",
    "from sklearn.pipeline import make_pipeline\n",
    "from sklearn.preprocessing import StandardScaler\n",
    "from sklearn.svm import SVC\n",
    "clf = make_pipeline(StandardScaler(), SVC(gamma='auto'))\n",
    "clf.fit(traindesc,trainy)\n",
    "#Pipeline(steps=[('standardscaler', StandardScaler()),('svc', SVC(gamma='auto'))])\n"
   ]
  },
  {
   "cell_type": "code",
   "execution_count": 109,
   "id": "1d59b70d",
   "metadata": {},
   "outputs": [
    {
     "data": {
      "text/plain": [
       "0.38562091503267976"
      ]
     },
     "execution_count": 109,
     "metadata": {},
     "output_type": "execute_result"
    }
   ],
   "source": [
    "a=clf.predict(validxdesc)\n",
    "a=abs(a-validy)\n",
    "s=np.sum(a)\n",
    "accsvm=s/a.shape[0]\n",
    "accsvm"
   ]
  },
  {
   "cell_type": "code",
   "execution_count": 110,
   "id": "3cf68a6e",
   "metadata": {},
   "outputs": [
    {
     "data": {
      "text/plain": [
       "0.6143790849673203"
      ]
     },
     "execution_count": 110,
     "metadata": {},
     "output_type": "execute_result"
    }
   ],
   "source": [
    "1-accsvm"
   ]
  },
  {
   "cell_type": "markdown",
   "id": "897c355f",
   "metadata": {},
   "source": [
    " ## svm brief poly"
   ]
  },
  {
   "cell_type": "code",
   "execution_count": 113,
   "id": "029174e4",
   "metadata": {},
   "outputs": [
    {
     "data": {
      "text/html": [
       "<style>#sk-container-id-3 {color: black;background-color: white;}#sk-container-id-3 pre{padding: 0;}#sk-container-id-3 div.sk-toggleable {background-color: white;}#sk-container-id-3 label.sk-toggleable__label {cursor: pointer;display: block;width: 100%;margin-bottom: 0;padding: 0.3em;box-sizing: border-box;text-align: center;}#sk-container-id-3 label.sk-toggleable__label-arrow:before {content: \"▸\";float: left;margin-right: 0.25em;color: #696969;}#sk-container-id-3 label.sk-toggleable__label-arrow:hover:before {color: black;}#sk-container-id-3 div.sk-estimator:hover label.sk-toggleable__label-arrow:before {color: black;}#sk-container-id-3 div.sk-toggleable__content {max-height: 0;max-width: 0;overflow: hidden;text-align: left;background-color: #f0f8ff;}#sk-container-id-3 div.sk-toggleable__content pre {margin: 0.2em;color: black;border-radius: 0.25em;background-color: #f0f8ff;}#sk-container-id-3 input.sk-toggleable__control:checked~div.sk-toggleable__content {max-height: 200px;max-width: 100%;overflow: auto;}#sk-container-id-3 input.sk-toggleable__control:checked~label.sk-toggleable__label-arrow:before {content: \"▾\";}#sk-container-id-3 div.sk-estimator input.sk-toggleable__control:checked~label.sk-toggleable__label {background-color: #d4ebff;}#sk-container-id-3 div.sk-label input.sk-toggleable__control:checked~label.sk-toggleable__label {background-color: #d4ebff;}#sk-container-id-3 input.sk-hidden--visually {border: 0;clip: rect(1px 1px 1px 1px);clip: rect(1px, 1px, 1px, 1px);height: 1px;margin: -1px;overflow: hidden;padding: 0;position: absolute;width: 1px;}#sk-container-id-3 div.sk-estimator {font-family: monospace;background-color: #f0f8ff;border: 1px dotted black;border-radius: 0.25em;box-sizing: border-box;margin-bottom: 0.5em;}#sk-container-id-3 div.sk-estimator:hover {background-color: #d4ebff;}#sk-container-id-3 div.sk-parallel-item::after {content: \"\";width: 100%;border-bottom: 1px solid gray;flex-grow: 1;}#sk-container-id-3 div.sk-label:hover label.sk-toggleable__label {background-color: #d4ebff;}#sk-container-id-3 div.sk-serial::before {content: \"\";position: absolute;border-left: 1px solid gray;box-sizing: border-box;top: 0;bottom: 0;left: 50%;z-index: 0;}#sk-container-id-3 div.sk-serial {display: flex;flex-direction: column;align-items: center;background-color: white;padding-right: 0.2em;padding-left: 0.2em;position: relative;}#sk-container-id-3 div.sk-item {position: relative;z-index: 1;}#sk-container-id-3 div.sk-parallel {display: flex;align-items: stretch;justify-content: center;background-color: white;position: relative;}#sk-container-id-3 div.sk-item::before, #sk-container-id-3 div.sk-parallel-item::before {content: \"\";position: absolute;border-left: 1px solid gray;box-sizing: border-box;top: 0;bottom: 0;left: 50%;z-index: -1;}#sk-container-id-3 div.sk-parallel-item {display: flex;flex-direction: column;z-index: 1;position: relative;background-color: white;}#sk-container-id-3 div.sk-parallel-item:first-child::after {align-self: flex-end;width: 50%;}#sk-container-id-3 div.sk-parallel-item:last-child::after {align-self: flex-start;width: 50%;}#sk-container-id-3 div.sk-parallel-item:only-child::after {width: 0;}#sk-container-id-3 div.sk-dashed-wrapped {border: 1px dashed gray;margin: 0 0.4em 0.5em 0.4em;box-sizing: border-box;padding-bottom: 0.4em;background-color: white;}#sk-container-id-3 div.sk-label label {font-family: monospace;font-weight: bold;display: inline-block;line-height: 1.2em;}#sk-container-id-3 div.sk-label-container {text-align: center;}#sk-container-id-3 div.sk-container {/* jupyter's `normalize.less` sets `[hidden] { display: none; }` but bootstrap.min.css set `[hidden] { display: none !important; }` so we also need the `!important` here to be able to override the default hidden behavior on the sphinx rendered scikit-learn.org. See: https://github.com/scikit-learn/scikit-learn/issues/21755 */display: inline-block !important;position: relative;}#sk-container-id-3 div.sk-text-repr-fallback {display: none;}</style><div id=\"sk-container-id-3\" class=\"sk-top-container\"><div class=\"sk-text-repr-fallback\"><pre>Pipeline(steps=[(&#x27;standardscaler&#x27;, StandardScaler()),\n",
       "                (&#x27;svc&#x27;, SVC(gamma=&#x27;auto&#x27;, kernel=&#x27;poly&#x27;))])</pre><b>In a Jupyter environment, please rerun this cell to show the HTML representation or trust the notebook. <br />On GitHub, the HTML representation is unable to render, please try loading this page with nbviewer.org.</b></div><div class=\"sk-container\" hidden><div class=\"sk-item sk-dashed-wrapped\"><div class=\"sk-label-container\"><div class=\"sk-label sk-toggleable\"><input class=\"sk-toggleable__control sk-hidden--visually\" id=\"sk-estimator-id-7\" type=\"checkbox\" ><label for=\"sk-estimator-id-7\" class=\"sk-toggleable__label sk-toggleable__label-arrow\">Pipeline</label><div class=\"sk-toggleable__content\"><pre>Pipeline(steps=[(&#x27;standardscaler&#x27;, StandardScaler()),\n",
       "                (&#x27;svc&#x27;, SVC(gamma=&#x27;auto&#x27;, kernel=&#x27;poly&#x27;))])</pre></div></div></div><div class=\"sk-serial\"><div class=\"sk-item\"><div class=\"sk-estimator sk-toggleable\"><input class=\"sk-toggleable__control sk-hidden--visually\" id=\"sk-estimator-id-8\" type=\"checkbox\" ><label for=\"sk-estimator-id-8\" class=\"sk-toggleable__label sk-toggleable__label-arrow\">StandardScaler</label><div class=\"sk-toggleable__content\"><pre>StandardScaler()</pre></div></div></div><div class=\"sk-item\"><div class=\"sk-estimator sk-toggleable\"><input class=\"sk-toggleable__control sk-hidden--visually\" id=\"sk-estimator-id-9\" type=\"checkbox\" ><label for=\"sk-estimator-id-9\" class=\"sk-toggleable__label sk-toggleable__label-arrow\">SVC</label><div class=\"sk-toggleable__content\"><pre>SVC(gamma=&#x27;auto&#x27;, kernel=&#x27;poly&#x27;)</pre></div></div></div></div></div></div></div>"
      ],
      "text/plain": [
       "Pipeline(steps=[('standardscaler', StandardScaler()),\n",
       "                ('svc', SVC(gamma='auto', kernel='poly'))])"
      ]
     },
     "execution_count": 113,
     "metadata": {},
     "output_type": "execute_result"
    }
   ],
   "source": [
    "import numpy as np\n",
    "from sklearn.pipeline import make_pipeline\n",
    "from sklearn.preprocessing import StandardScaler\n",
    "from sklearn.svm import SVC\n",
    "clf = make_pipeline(StandardScaler(), SVC( kernel='poly',gamma='auto'))\n",
    "clf.fit(traindesc,trainy)\n",
    "#Pipeline(steps=[('standardscaler', StandardScaler()),('svc', SVC(gamma='auto'))])\n"
   ]
  },
  {
   "cell_type": "code",
   "execution_count": 114,
   "id": "6496812d",
   "metadata": {},
   "outputs": [
    {
     "data": {
      "text/plain": [
       "0.3899782135076253"
      ]
     },
     "execution_count": 114,
     "metadata": {},
     "output_type": "execute_result"
    }
   ],
   "source": [
    "a=clf.predict(validxdesc)\n",
    "a=abs(a-validy)\n",
    "s=np.sum(a)\n",
    "accsvm=s/a.shape[0]\n",
    "accsvm"
   ]
  },
  {
   "cell_type": "code",
   "execution_count": 115,
   "id": "422c2efd",
   "metadata": {},
   "outputs": [
    {
     "data": {
      "text/plain": [
       "0.6100217864923747"
      ]
     },
     "execution_count": 115,
     "metadata": {},
     "output_type": "execute_result"
    }
   ],
   "source": [
    "1-accsvm"
   ]
  },
  {
   "cell_type": "markdown",
   "id": "26ceb761",
   "metadata": {},
   "source": [
    " ## svm sift poly"
   ]
  },
  {
   "cell_type": "code",
   "execution_count": 117,
   "id": "732a5491",
   "metadata": {},
   "outputs": [
    {
     "data": {
      "text/html": [
       "<style>#sk-container-id-4 {color: black;background-color: white;}#sk-container-id-4 pre{padding: 0;}#sk-container-id-4 div.sk-toggleable {background-color: white;}#sk-container-id-4 label.sk-toggleable__label {cursor: pointer;display: block;width: 100%;margin-bottom: 0;padding: 0.3em;box-sizing: border-box;text-align: center;}#sk-container-id-4 label.sk-toggleable__label-arrow:before {content: \"▸\";float: left;margin-right: 0.25em;color: #696969;}#sk-container-id-4 label.sk-toggleable__label-arrow:hover:before {color: black;}#sk-container-id-4 div.sk-estimator:hover label.sk-toggleable__label-arrow:before {color: black;}#sk-container-id-4 div.sk-toggleable__content {max-height: 0;max-width: 0;overflow: hidden;text-align: left;background-color: #f0f8ff;}#sk-container-id-4 div.sk-toggleable__content pre {margin: 0.2em;color: black;border-radius: 0.25em;background-color: #f0f8ff;}#sk-container-id-4 input.sk-toggleable__control:checked~div.sk-toggleable__content {max-height: 200px;max-width: 100%;overflow: auto;}#sk-container-id-4 input.sk-toggleable__control:checked~label.sk-toggleable__label-arrow:before {content: \"▾\";}#sk-container-id-4 div.sk-estimator input.sk-toggleable__control:checked~label.sk-toggleable__label {background-color: #d4ebff;}#sk-container-id-4 div.sk-label input.sk-toggleable__control:checked~label.sk-toggleable__label {background-color: #d4ebff;}#sk-container-id-4 input.sk-hidden--visually {border: 0;clip: rect(1px 1px 1px 1px);clip: rect(1px, 1px, 1px, 1px);height: 1px;margin: -1px;overflow: hidden;padding: 0;position: absolute;width: 1px;}#sk-container-id-4 div.sk-estimator {font-family: monospace;background-color: #f0f8ff;border: 1px dotted black;border-radius: 0.25em;box-sizing: border-box;margin-bottom: 0.5em;}#sk-container-id-4 div.sk-estimator:hover {background-color: #d4ebff;}#sk-container-id-4 div.sk-parallel-item::after {content: \"\";width: 100%;border-bottom: 1px solid gray;flex-grow: 1;}#sk-container-id-4 div.sk-label:hover label.sk-toggleable__label {background-color: #d4ebff;}#sk-container-id-4 div.sk-serial::before {content: \"\";position: absolute;border-left: 1px solid gray;box-sizing: border-box;top: 0;bottom: 0;left: 50%;z-index: 0;}#sk-container-id-4 div.sk-serial {display: flex;flex-direction: column;align-items: center;background-color: white;padding-right: 0.2em;padding-left: 0.2em;position: relative;}#sk-container-id-4 div.sk-item {position: relative;z-index: 1;}#sk-container-id-4 div.sk-parallel {display: flex;align-items: stretch;justify-content: center;background-color: white;position: relative;}#sk-container-id-4 div.sk-item::before, #sk-container-id-4 div.sk-parallel-item::before {content: \"\";position: absolute;border-left: 1px solid gray;box-sizing: border-box;top: 0;bottom: 0;left: 50%;z-index: -1;}#sk-container-id-4 div.sk-parallel-item {display: flex;flex-direction: column;z-index: 1;position: relative;background-color: white;}#sk-container-id-4 div.sk-parallel-item:first-child::after {align-self: flex-end;width: 50%;}#sk-container-id-4 div.sk-parallel-item:last-child::after {align-self: flex-start;width: 50%;}#sk-container-id-4 div.sk-parallel-item:only-child::after {width: 0;}#sk-container-id-4 div.sk-dashed-wrapped {border: 1px dashed gray;margin: 0 0.4em 0.5em 0.4em;box-sizing: border-box;padding-bottom: 0.4em;background-color: white;}#sk-container-id-4 div.sk-label label {font-family: monospace;font-weight: bold;display: inline-block;line-height: 1.2em;}#sk-container-id-4 div.sk-label-container {text-align: center;}#sk-container-id-4 div.sk-container {/* jupyter's `normalize.less` sets `[hidden] { display: none; }` but bootstrap.min.css set `[hidden] { display: none !important; }` so we also need the `!important` here to be able to override the default hidden behavior on the sphinx rendered scikit-learn.org. See: https://github.com/scikit-learn/scikit-learn/issues/21755 */display: inline-block !important;position: relative;}#sk-container-id-4 div.sk-text-repr-fallback {display: none;}</style><div id=\"sk-container-id-4\" class=\"sk-top-container\"><div class=\"sk-text-repr-fallback\"><pre>Pipeline(steps=[(&#x27;standardscaler&#x27;, StandardScaler()),\n",
       "                (&#x27;svc&#x27;, SVC(gamma=&#x27;auto&#x27;, kernel=&#x27;poly&#x27;))])</pre><b>In a Jupyter environment, please rerun this cell to show the HTML representation or trust the notebook. <br />On GitHub, the HTML representation is unable to render, please try loading this page with nbviewer.org.</b></div><div class=\"sk-container\" hidden><div class=\"sk-item sk-dashed-wrapped\"><div class=\"sk-label-container\"><div class=\"sk-label sk-toggleable\"><input class=\"sk-toggleable__control sk-hidden--visually\" id=\"sk-estimator-id-10\" type=\"checkbox\" ><label for=\"sk-estimator-id-10\" class=\"sk-toggleable__label sk-toggleable__label-arrow\">Pipeline</label><div class=\"sk-toggleable__content\"><pre>Pipeline(steps=[(&#x27;standardscaler&#x27;, StandardScaler()),\n",
       "                (&#x27;svc&#x27;, SVC(gamma=&#x27;auto&#x27;, kernel=&#x27;poly&#x27;))])</pre></div></div></div><div class=\"sk-serial\"><div class=\"sk-item\"><div class=\"sk-estimator sk-toggleable\"><input class=\"sk-toggleable__control sk-hidden--visually\" id=\"sk-estimator-id-11\" type=\"checkbox\" ><label for=\"sk-estimator-id-11\" class=\"sk-toggleable__label sk-toggleable__label-arrow\">StandardScaler</label><div class=\"sk-toggleable__content\"><pre>StandardScaler()</pre></div></div></div><div class=\"sk-item\"><div class=\"sk-estimator sk-toggleable\"><input class=\"sk-toggleable__control sk-hidden--visually\" id=\"sk-estimator-id-12\" type=\"checkbox\" ><label for=\"sk-estimator-id-12\" class=\"sk-toggleable__label sk-toggleable__label-arrow\">SVC</label><div class=\"sk-toggleable__content\"><pre>SVC(gamma=&#x27;auto&#x27;, kernel=&#x27;poly&#x27;)</pre></div></div></div></div></div></div></div>"
      ],
      "text/plain": [
       "Pipeline(steps=[('standardscaler', StandardScaler()),\n",
       "                ('svc', SVC(gamma='auto', kernel='poly'))])"
      ]
     },
     "execution_count": 117,
     "metadata": {},
     "output_type": "execute_result"
    }
   ],
   "source": [
    "import numpy as np\n",
    "from sklearn.pipeline import make_pipeline\n",
    "from sklearn.preprocessing import StandardScaler\n",
    "from sklearn.svm import SVC\n",
    "clf = make_pipeline(StandardScaler(), SVC( kernel='poly',gamma='auto'))\n",
    "clf.fit(traindesc,trainy)\n",
    "#Pipeline(steps=[('standardscaler', StandardScaler()),('svc', SVC(gamma='auto'))])\n"
   ]
  },
  {
   "cell_type": "code",
   "execution_count": 118,
   "id": "e4191169",
   "metadata": {},
   "outputs": [
    {
     "data": {
      "text/plain": [
       "0.3727598566308244"
      ]
     },
     "execution_count": 118,
     "metadata": {},
     "output_type": "execute_result"
    }
   ],
   "source": [
    "a=clf.predict(validxdesc)\n",
    "a=abs(a-validy)\n",
    "s=np.sum(a)\n",
    "accsvm=s/a.shape[0]\n",
    "accsvm"
   ]
  },
  {
   "cell_type": "code",
   "execution_count": 119,
   "id": "bb09cd86",
   "metadata": {},
   "outputs": [
    {
     "data": {
      "text/plain": [
       "0.6272401433691757"
      ]
     },
     "execution_count": 119,
     "metadata": {},
     "output_type": "execute_result"
    }
   ],
   "source": [
    "1-accsvm"
   ]
  },
  {
   "cell_type": "code",
   "execution_count": 22,
   "id": "57d7d667",
   "metadata": {},
   "outputs": [],
   "source": [
    "trainx=traindesc\n",
    "validx=validxdesc\n"
   ]
  },
  {
   "cell_type": "markdown",
   "id": "27965938",
   "metadata": {},
   "source": [
    "## random forest brief gini"
   ]
  },
  {
   "cell_type": "code",
   "execution_count": 19,
   "id": "c573a200",
   "metadata": {},
   "outputs": [
    {
     "name": "stdout",
     "output_type": "stream",
     "text": [
      "0\n"
     ]
    }
   ],
   "source": [
    "from sklearn.ensemble import RandomForestClassifier\n",
    "from sklearn import metrics\n",
    "rf = RandomForestClassifier(criterion='gini')\n",
    "rf.fit(trainx,trainy)\n",
    "Prediction = rf.predict(trainx)\n",
    "error_rf = sum(abs(Prediction - trainy))\n",
    "print(error_rf)"
   ]
  },
  {
   "cell_type": "code",
   "execution_count": 20,
   "id": "698b098a",
   "metadata": {},
   "outputs": [
    {
     "name": "stdout",
     "output_type": "stream",
     "text": [
      "63.39869281045751\n"
     ]
    }
   ],
   "source": [
    "val_predict = rf.predict(validx)\n",
    "error_mat_val = (abs(val_predict - validy))\n",
    "error_val = sum(error_mat_val)/len(validy)\n",
    "acc_val = (1-error_val)*100\n",
    "print(acc_val)"
   ]
  },
  {
   "cell_type": "code",
   "execution_count": null,
   "id": "504f09c1",
   "metadata": {},
   "outputs": [],
   "source": []
  },
  {
   "cell_type": "markdown",
   "id": "1ee7192b",
   "metadata": {},
   "source": [
    "## random forest brief entropy"
   ]
  },
  {
   "cell_type": "code",
   "execution_count": 23,
   "id": "0beafa00",
   "metadata": {},
   "outputs": [
    {
     "name": "stdout",
     "output_type": "stream",
     "text": [
      "0\n"
     ]
    }
   ],
   "source": [
    "from sklearn.ensemble import RandomForestClassifier\n",
    "from sklearn import metrics\n",
    "rf = RandomForestClassifier(criterion='entropy')\n",
    "rf.fit(trainx,trainy)\n",
    "Prediction = rf.predict(trainx)\n",
    "error_rf = sum(abs(Prediction - trainy))\n",
    "print(error_rf)"
   ]
  },
  {
   "cell_type": "code",
   "execution_count": 24,
   "id": "45271023",
   "metadata": {},
   "outputs": [
    {
     "name": "stdout",
     "output_type": "stream",
     "text": [
      "60.130718954248366\n"
     ]
    }
   ],
   "source": [
    "val_predict = rf.predict(validx)\n",
    "error_mat_val = (abs(val_predict - validy))\n",
    "error_val = sum(error_mat_val)/len(validy)\n",
    "acc_val = (1-error_val)*100\n",
    "print(acc_val)"
   ]
  },
  {
   "cell_type": "markdown",
   "id": "484aa7a5",
   "metadata": {},
   "source": [
    "## random forest sift gini"
   ]
  },
  {
   "cell_type": "code",
   "execution_count": 12,
   "id": "62fb3b04",
   "metadata": {},
   "outputs": [
    {
     "name": "stdout",
     "output_type": "stream",
     "text": [
      "0\n"
     ]
    }
   ],
   "source": [
    "from sklearn.ensemble import RandomForestClassifier\n",
    "from sklearn import metrics\n",
    "rf = RandomForestClassifier(criterion='gini')\n",
    "rf.fit(trainx,trainy)\n",
    "Prediction = rf.predict(trainx)\n",
    "error_rf = sum(abs(Prediction - trainy))\n",
    "print(error_rf)"
   ]
  },
  {
   "cell_type": "code",
   "execution_count": 13,
   "id": "ce4844a2",
   "metadata": {},
   "outputs": [
    {
     "name": "stdout",
     "output_type": "stream",
     "text": [
      "62.00716845878136\n"
     ]
    }
   ],
   "source": [
    "val_predict = rf.predict(validx)\n",
    "error_mat_val = (abs(val_predict - validy))\n",
    "error_val = sum(error_mat_val)/len(validy)\n",
    "acc_val = (1-error_val)*100\n",
    "print(acc_val)"
   ]
  },
  {
   "cell_type": "markdown",
   "id": "71b09fc6",
   "metadata": {},
   "source": [
    "## random forest sift entropy"
   ]
  },
  {
   "cell_type": "code",
   "execution_count": 14,
   "id": "9787b9d6",
   "metadata": {},
   "outputs": [
    {
     "name": "stdout",
     "output_type": "stream",
     "text": [
      "0\n"
     ]
    }
   ],
   "source": [
    "from sklearn.ensemble import RandomForestClassifier\n",
    "from sklearn import metrics\n",
    "rf = RandomForestClassifier(criterion='entropy')\n",
    "rf.fit(trainx,trainy)\n",
    "Prediction = rf.predict(trainx)\n",
    "error_rf = sum(abs(Prediction - trainy))\n",
    "print(error_rf)"
   ]
  },
  {
   "cell_type": "code",
   "execution_count": 15,
   "id": "fe151e8c",
   "metadata": {},
   "outputs": [
    {
     "name": "stdout",
     "output_type": "stream",
     "text": [
      "63.08243727598566\n"
     ]
    }
   ],
   "source": [
    "val_predict = rf.predict(validx)\n",
    "error_mat_val = (abs(val_predict - validy))\n",
    "error_val = sum(error_mat_val)/len(validy)\n",
    "acc_val = (1-error_val)*100\n",
    "print(acc_val)"
   ]
  },
  {
   "cell_type": "code",
   "execution_count": 73,
   "id": "9a6329fc",
   "metadata": {},
   "outputs": [
    {
     "data": {
      "image/png": "[encoded data removed]",
      "text/plain": [
       "<Figure size 432x288 with 1 Axes>"
      ]
     },
     "metadata": {
      "needs_background": "light"
     },
     "output_type": "display_data"
    }
   ],
   "source": [
    "x1=[]\n",
    "x2=[]\n",
    "for i in range(256):\n",
    "    plt.plot([compareX[i][0]//9,compareX[i][0]%9],[compareY[i][0]//9,compareY[i][0]%9])\n",
    "    "
   ]
  },
  {
   "cell_type": "markdown",
   "id": "674ec4d6",
   "metadata": {},
   "source": [
    "## nn sift lr -3 hidden size 10 "
   ]
  },
  {
   "cell_type": "code",
   "execution_count": 37,
   "id": "069f52c7",
   "metadata": {},
   "outputs": [
    {
     "name": "stderr",
     "output_type": "stream",
     "text": [
      "  0%|                                                                                           | 0/30 [00:00<?, ?it/s]X:\\cmu\\24787 ml ai\\pro\\UROV-main\\q1.ipynb:123: RuntimeWarning: overflow encountered in exp\n",
      "  \"editable\": false,\n",
      "X:\\cmu\\24787 ml ai\\pro\\UROV-main\\q1.ipynb:126: RuntimeWarning: overflow encountered in exp\n",
      "  \"checksum\": \"12e71c9c0c03aee4fd5317e95475fd79\",\n"
     ]
    },
    {
     "name": "stdout",
     "output_type": "stream",
     "text": [
      "itr: 00 \t loss: 774.00 \t acc : 0.61\n"
     ]
    },
    {
     "name": "stderr",
     "output_type": "stream",
     "text": [
      "\r",
      "  3%|██▊                                                                                | 1/30 [00:12<06:12, 12.86s/it]"
     ]
    },
    {
     "name": "stdout",
     "output_type": "stream",
     "text": [
      "Validation accuracy:  0.7371565113500598\n"
     ]
    },
    {
     "name": "stderr",
     "output_type": "stream",
     "text": [
      "\r",
      "  7%|█████▌                                                                             | 2/30 [00:23<05:29, 11.76s/it]"
     ]
    },
    {
     "name": "stdout",
     "output_type": "stream",
     "text": [
      "Validation accuracy:  0.6129032258064516\n",
      "itr: 02 \t loss: 767.98 \t acc : 0.62\n"
     ]
    },
    {
     "name": "stderr",
     "output_type": "stream",
     "text": [
      "\r",
      " 10%|████████▎                                                                          | 3/30 [00:35<05:13, 11.60s/it]"
     ]
    },
    {
     "name": "stdout",
     "output_type": "stream",
     "text": [
      "Validation accuracy:  0.6200716845878137\n"
     ]
    },
    {
     "name": "stderr",
     "output_type": "stream",
     "text": [
      "\r",
      " 13%|███████████                                                                        | 4/30 [00:46<04:55, 11.37s/it]"
     ]
    },
    {
     "name": "stdout",
     "output_type": "stream",
     "text": [
      "Validation accuracy:  0.5985663082437276\n",
      "itr: 04 \t loss: 767.98 \t acc : 0.62\n"
     ]
    },
    {
     "name": "stderr",
     "output_type": "stream",
     "text": [
      "\r",
      " 17%|█████████████▊                                                                     | 5/30 [00:57<04:41, 11.25s/it]"
     ]
    },
    {
     "name": "stdout",
     "output_type": "stream",
     "text": [
      "Validation accuracy:  0.6248506571087217\n"
     ]
    },
    {
     "name": "stderr",
     "output_type": "stream",
     "text": [
      "\r",
      " 20%|████████████████▌                                                                  | 6/30 [01:08<04:27, 11.14s/it]"
     ]
    },
    {
     "name": "stdout",
     "output_type": "stream",
     "text": [
      "Validation accuracy:  0.5782556750298686\n",
      "itr: 06 \t loss: 767.98 \t acc : 0.62\n"
     ]
    },
    {
     "name": "stderr",
     "output_type": "stream",
     "text": [
      "\r",
      " 23%|███████████████████▎                                                               | 7/30 [01:19<04:15, 11.11s/it]"
     ]
    },
    {
     "name": "stdout",
     "output_type": "stream",
     "text": [
      "Validation accuracy:  0.7443249701314217\n"
     ]
    },
    {
     "name": "stderr",
     "output_type": "stream",
     "text": [
      "\r",
      " 27%|██████████████████████▏                                                            | 8/30 [01:30<04:03, 11.05s/it]"
     ]
    },
    {
     "name": "stdout",
     "output_type": "stream",
     "text": [
      "Validation accuracy:  0.5866188769414576\n",
      "itr: 08 \t loss: 767.98 \t acc : 0.62\n"
     ]
    },
    {
     "name": "stderr",
     "output_type": "stream",
     "text": [
      "\r",
      " 30%|████████████████████████▉                                                          | 9/30 [01:41<03:50, 10.99s/it]"
     ]
    },
    {
     "name": "stdout",
     "output_type": "stream",
     "text": [
      "Validation accuracy:  0.7096774193548386\n"
     ]
    },
    {
     "name": "stderr",
     "output_type": "stream",
     "text": [
      "\r",
      " 33%|███████████████████████████▎                                                      | 10/30 [01:51<03:39, 10.95s/it]"
     ]
    },
    {
     "name": "stdout",
     "output_type": "stream",
     "text": [
      "Validation accuracy:  0.6403823178016727\n",
      "itr: 10 \t loss: 767.98 \t acc : 0.62\n"
     ]
    },
    {
     "name": "stderr",
     "output_type": "stream",
     "text": [
      "\r",
      " 37%|██████████████████████████████                                                    | 11/30 [02:02<03:28, 10.99s/it]"
     ]
    },
    {
     "name": "stdout",
     "output_type": "stream",
     "text": [
      "Validation accuracy:  0.6260454002389486\n"
     ]
    },
    {
     "name": "stderr",
     "output_type": "stream",
     "text": [
      "\r",
      " 40%|████████████████████████████████▊                                                 | 12/30 [02:13<03:17, 10.99s/it]"
     ]
    },
    {
     "name": "stdout",
     "output_type": "stream",
     "text": [
      "Validation accuracy:  0.6499402628434886\n",
      "itr: 12 \t loss: 767.98 \t acc : 0.62\n"
     ]
    },
    {
     "name": "stderr",
     "output_type": "stream",
     "text": [
      "\r",
      " 43%|███████████████████████████████████▌                                              | 13/30 [02:24<03:06, 10.94s/it]"
     ]
    },
    {
     "name": "stdout",
     "output_type": "stream",
     "text": [
      "Validation accuracy:  0.6845878136200717\n"
     ]
    },
    {
     "name": "stderr",
     "output_type": "stream",
     "text": [
      "\r",
      " 47%|██████████████████████████████████████▎                                           | 14/30 [02:35<02:54, 10.91s/it]"
     ]
    },
    {
     "name": "stdout",
     "output_type": "stream",
     "text": [
      "Validation accuracy:  0.6642771804062128\n",
      "itr: 14 \t loss: 767.98 \t acc : 0.62\n"
     ]
    },
    {
     "name": "stderr",
     "output_type": "stream",
     "text": [
      "\r",
      " 50%|█████████████████████████████████████████                                         | 15/30 [02:46<02:43, 10.89s/it]"
     ]
    },
    {
     "name": "stdout",
     "output_type": "stream",
     "text": [
      "Validation accuracy:  0.5902031063321386\n"
     ]
    },
    {
     "name": "stderr",
     "output_type": "stream",
     "text": [
      "\r",
      " 53%|███████████████████████████████████████████▋                                      | 16/30 [02:57<02:32, 10.88s/it]"
     ]
    },
    {
     "name": "stdout",
     "output_type": "stream",
     "text": [
      "Validation accuracy:  0.5758661887694146\n",
      "itr: 16 \t loss: 767.98 \t acc : 0.62\n"
     ]
    },
    {
     "name": "stderr",
     "output_type": "stream",
     "text": [
      "\r",
      " 57%|██████████████████████████████████████████████▍                                   | 17/30 [03:08<02:21, 10.87s/it]"
     ]
    },
    {
     "name": "stdout",
     "output_type": "stream",
     "text": [
      "Validation accuracy:  0.5949820788530467\n"
     ]
    },
    {
     "name": "stderr",
     "output_type": "stream",
     "text": [
      "\r",
      " 60%|█████████████████████████████████████████████████▏                                | 18/30 [03:19<02:10, 10.90s/it]"
     ]
    },
    {
     "name": "stdout",
     "output_type": "stream",
     "text": [
      "Validation accuracy:  0.7526881720430106\n",
      "itr: 18 \t loss: 767.98 \t acc : 0.62\n"
     ]
    },
    {
     "name": "stderr",
     "output_type": "stream",
     "text": [
      "\r",
      " 63%|███████████████████████████████████████████████████▉                              | 19/30 [03:30<02:00, 10.92s/it]"
     ]
    },
    {
     "name": "stdout",
     "output_type": "stream",
     "text": [
      "Validation accuracy:  0.6786140979689367\n"
     ]
    },
    {
     "name": "stderr",
     "output_type": "stream",
     "text": [
      "\r",
      " 67%|██████████████████████████████████████████████████████▋                           | 20/30 [03:41<01:49, 10.93s/it]"
     ]
    },
    {
     "name": "stdout",
     "output_type": "stream",
     "text": [
      "Validation accuracy:  0.6511350059737157\n",
      "itr: 20 \t loss: 767.98 \t acc : 0.62\n"
     ]
    },
    {
     "name": "stderr",
     "output_type": "stream",
     "text": [
      "\r",
      " 70%|█████████████████████████████████████████████████████████▍                        | 21/30 [03:51<01:38, 10.90s/it]"
     ]
    },
    {
     "name": "stdout",
     "output_type": "stream",
     "text": [
      "Validation accuracy:  0.6415770609318997\n"
     ]
    },
    {
     "name": "stderr",
     "output_type": "stream",
     "text": [
      "\r",
      " 73%|████████████████████████████████████████████████████████████▏                     | 22/30 [04:02<01:27, 10.90s/it]"
     ]
    },
    {
     "name": "stdout",
     "output_type": "stream",
     "text": [
      "Validation accuracy:  0.6523297491039427\n",
      "itr: 22 \t loss: 767.98 \t acc : 0.62\n"
     ]
    },
    {
     "name": "stderr",
     "output_type": "stream",
     "text": [
      "\r",
      " 77%|██████████████████████████████████████████████████████████████▊                   | 23/30 [04:13<01:16, 10.93s/it]"
     ]
    },
    {
     "name": "stdout",
     "output_type": "stream",
     "text": [
      "Validation accuracy:  0.5686977299880526\n"
     ]
    },
    {
     "name": "stderr",
     "output_type": "stream",
     "text": [
      "\r",
      " 80%|█████████████████████████████████████████████████████████████████▌                | 24/30 [04:24<01:05, 10.92s/it]"
     ]
    },
    {
     "name": "stdout",
     "output_type": "stream",
     "text": [
      "Validation accuracy:  0.6391875746714456\n"
     ]
    },
    {
     "name": "stderr",
     "output_type": "stream",
     "text": [
      "\r",
      " 83%|████████████████████████████████████████████████████████████████████▎             | 25/30 [04:35<00:54, 10.90s/it]"
     ]
    },
    {
     "name": "stdout",
     "output_type": "stream",
     "text": [
      "itr: 24 \t loss: 767.98 \t acc : 0.62\n",
      "Validation accuracy:  0.6045400238948626\n"
     ]
    },
    {
     "name": "stderr",
     "output_type": "stream",
     "text": [
      "\r",
      " 87%|███████████████████████████████████████████████████████████████████████           | 26/30 [04:46<00:43, 10.92s/it]"
     ]
    },
    {
     "name": "stdout",
     "output_type": "stream",
     "text": [
      "Validation accuracy:  0.6200716845878136\n",
      "itr: 26 \t loss: 767.98 \t acc : 0.62\n"
     ]
    },
    {
     "name": "stderr",
     "output_type": "stream",
     "text": [
      "\r",
      " 90%|█████████████████████████████████████████████████████████████████████████▊        | 27/30 [04:57<00:32, 10.92s/it]"
     ]
    },
    {
     "name": "stdout",
     "output_type": "stream",
     "text": [
      "Validation accuracy:  0.6356033452807647\n"
     ]
    },
    {
     "name": "stderr",
     "output_type": "stream",
     "text": [
      "\r",
      " 93%|████████████████████████████████████████████████████████████████████████████▌     | 28/30 [05:08<00:21, 10.94s/it]"
     ]
    },
    {
     "name": "stdout",
     "output_type": "stream",
     "text": [
      "Validation accuracy:  0.4802867383512544\n",
      "itr: 28 \t loss: 767.98 \t acc : 0.62\n"
     ]
    },
    {
     "name": "stderr",
     "output_type": "stream",
     "text": [
      "\r",
      " 97%|███████████████████████████████████████████████████████████████████████████████▎  | 29/30 [05:19<00:10, 10.95s/it]"
     ]
    },
    {
     "name": "stdout",
     "output_type": "stream",
     "text": [
      "Validation accuracy:  0.6857825567502988\n"
     ]
    },
    {
     "name": "stderr",
     "output_type": "stream",
     "text": [
      "100%|██████████████████████████████████████████████████████████████████████████████████| 30/30 [05:30<00:00, 11.02s/it]"
     ]
    },
    {
     "name": "stdout",
     "output_type": "stream",
     "text": [
      "Validation accuracy:  0.5197132616487455\n"
     ]
    },
    {
     "name": "stderr",
     "output_type": "stream",
     "text": [
      "\n"
     ]
    }
   ],
   "source": [
    "max_iters = 30\n",
    "batch_size =10\n",
    "learning_rate = (1e-3)\n",
    "hidden_size = 20\n",
    "hidden_size2 = 64\n",
    "batches = get_random_batches(traindesc,trainy,batch_size)\n",
    "batch_num = len(batches)\n",
    "paramsf = {}\n",
    "initialize_weights(64000,hidden_size,paramsf,'layer1')\n",
    "#initialize_weights(hidden_size,hidden_size2,paramsf,'layer2')\n",
    "initialize_weights(hidden_size,2,paramsf,'output')\n",
    "\n",
    "t=[]\n",
    "v=[]\n",
    "to=[]\n",
    "vo=[]\n",
    "best=0\n",
    "\n",
    "for itr in tqdm(range(max_iters)):\n",
    "    total_loss = 0\n",
    "    avg_acc=0\n",
    "    total_acc = 0\n",
    "    for xb,yb in batches:\n",
    "        h1 = forward(xb,paramsf,'layer1')\n",
    "        probs = forward(h1, paramsf,'output',softmax)\n",
    "\n",
    "  \n",
    "        loss, acc = compute_loss_and_acc(yb, probs)\n",
    "        #print('hello1')\n",
    "        total_loss =total_loss+ loss\n",
    "        avg_acc=avg_acc+acc\n",
    "\n",
    "        delta1 = probs - yb\n",
    "        delta2 = backwards(delta1, paramsf, 'output', linear_deriv)\n",
    "        backwards(delta2, paramsf, 'layer1', sigmoid_deriv)\n",
    "        #print('hello')\n",
    "        paramsf['Wlayer1']-=learning_rate* paramsf['grad_Wlayer1']\n",
    "        paramsf['blayer1']-=learning_rate*paramsf['grad_blayer1']\n",
    "        paramsf['Woutput']-=learning_rate*paramsf['grad_Woutput']\n",
    "        paramsf['boutput']-=learning_rate*paramsf['grad_boutput']\n",
    " \n",
    "    total_acc =avg_acc/ batch_num\n",
    "    t.append(total_acc)\n",
    "    to.append(total_loss)\n",
    "    if itr % 2 == 0:\n",
    "        print(\"itr: {:02d} \\t loss: {:.2f} \\t acc : {:.2f}\".format(itr,total_loss,total_acc))\n",
    "    \n",
    "    bv = get_random_batches(validxdesc,validy,validy.shape[0])\n",
    "    bnv = len(bv)\n",
    "    total_lossv = 0\n",
    "    avg_accv=0\n",
    "    total_accv = 0\n",
    "    for xbv,ybv in bv:\n",
    "        h1v = forward(xbv,paramsf,'layer1')\n",
    "        probs = forward(h1v, paramsf,'output',softmax)\n",
    "        loss, acc = compute_loss_and_acc(ybv, probs)\n",
    "        total_lossv =total_lossv+ loss\n",
    "        avg_accv=avg_accv+acc\n",
    "    valid_accv =avg_accv/ bnv\n",
    "    v.append(valid_accv)\n",
    "    vo.append(total_lossv)\n",
    "\n",
    "    print('Validation accuracy: ',valid_accv)\n",
    "    if valid_accv>best:\n",
    "        best=valid_accv\n",
    "        bestd=copy.copy(paramsf)\n",
    "    "
   ]
  },
  {
   "cell_type": "code",
   "execution_count": 38,
   "id": "4654b792",
   "metadata": {},
   "outputs": [],
   "source": [
    "itr=[]\n",
    "for i in range(1,31):\n",
    "    itr.append(i)"
   ]
  },
  {
   "cell_type": "code",
   "execution_count": 39,
   "id": "e219904c",
   "metadata": {},
   "outputs": [],
   "source": [
    "t=np.array(t)\n",
    "v=np.array(v)\n",
    "to=np.array(to)\n",
    "vo=np.array(vo)"
   ]
  },
  {
   "cell_type": "code",
   "execution_count": 40,
   "id": "6c2d8fce",
   "metadata": {},
   "outputs": [
    {
     "data": {
      "text/plain": [
       "<matplotlib.legend.Legend at 0x1a4dfc77a60>"
      ]
     },
     "execution_count": 40,
     "metadata": {},
     "output_type": "execute_result"
    },
    {
     "data": {
      "image/png": "[encoded data removed]",
      "text/plain": [
       "<Figure size 432x288 with 1 Axes>"
      ]
     },
     "metadata": {
      "needs_background": "light"
     },
     "output_type": "display_data"
    }
   ],
   "source": [
    "plt.plot(itr,t,'r',label='training acc')\n",
    "plt.plot(itr,v,'g',label='validation acc')\n",
    "plt.legend()"
   ]
  },
  {
   "cell_type": "code",
   "execution_count": 41,
   "id": "ece0ee22",
   "metadata": {},
   "outputs": [
    {
     "data": {
      "text/plain": [
       "0.6173913043478263"
      ]
     },
     "execution_count": 41,
     "metadata": {},
     "output_type": "execute_result"
    }
   ],
   "source": [
    "t[-1]"
   ]
  },
  {
   "cell_type": "code",
   "execution_count": 42,
   "id": "c8d21836",
   "metadata": {},
   "outputs": [
    {
     "data": {
      "text/plain": [
       "0.5197132616487455"
      ]
     },
     "execution_count": 42,
     "metadata": {},
     "output_type": "execute_result"
    }
   ],
   "source": [
    "v[-1]"
   ]
  },
  {
   "cell_type": "code",
   "execution_count": 43,
   "id": "26e165e2",
   "metadata": {},
   "outputs": [
    {
     "data": {
      "text/plain": [
       "<matplotlib.legend.Legend at 0x1a4e5d072b0>"
      ]
     },
     "execution_count": 43,
     "metadata": {},
     "output_type": "execute_result"
    },
    {
     "data": {
      "image/png": "[encoded data removed]",
      "text/plain": [
       "<Figure size 432x288 with 1 Axes>"
      ]
     },
     "metadata": {
      "needs_background": "light"
     },
     "output_type": "display_data"
    }
   ],
   "source": [
    "plt.plot(itr,to,'r',label='training loss')\n",
    "plt.plot(itr,vo,'g',label='validation loss')\n",
    "plt.legend()"
   ]
  },
  {
   "cell_type": "code",
   "execution_count": 44,
   "id": "6a7a2ee1",
   "metadata": {},
   "outputs": [
    {
     "data": {
      "text/plain": [
       "0.7526881720430106"
      ]
     },
     "execution_count": 44,
     "metadata": {},
     "output_type": "execute_result"
    }
   ],
   "source": [
    "best"
   ]
  },
  {
   "cell_type": "markdown",
   "id": "16a7c9cb",
   "metadata": {},
   "source": [
    "## nn sift lr -4 hidden size 10 "
   ]
  },
  {
   "cell_type": "code",
   "execution_count": 45,
   "id": "291f67a0",
   "metadata": {},
   "outputs": [
    {
     "name": "stderr",
     "output_type": "stream",
     "text": [
      "\r",
      "  0%|                                                                                           | 0/30 [00:00<?, ?it/s]"
     ]
    },
    {
     "name": "stdout",
     "output_type": "stream",
     "text": [
      "itr: 00 \t loss: 784.82 \t acc : 0.62\n",
      "Validation accuracy:  0.6057347670250895\n"
     ]
    },
    {
     "name": "stderr",
     "output_type": "stream",
     "text": [
      "  7%|█████▌                                                                             | 2/30 [00:12<03:00,  6.43s/it]"
     ]
    },
    {
     "name": "stdout",
     "output_type": "stream",
     "text": [
      "Validation accuracy:  0.5436081242532855\n"
     ]
    },
    {
     "name": "stderr",
     "output_type": "stream",
     "text": [
      "\r",
      " 10%|████████▎                                                                          | 3/30 [00:19<02:55,  6.50s/it]"
     ]
    },
    {
     "name": "stdout",
     "output_type": "stream",
     "text": [
      "itr: 02 \t loss: 776.27 \t acc : 0.62\n",
      "Validation accuracy:  0.6547192353643966\n"
     ]
    },
    {
     "name": "stderr",
     "output_type": "stream",
     "text": [
      "\r",
      " 13%|███████████                                                                        | 4/30 [00:26<02:49,  6.52s/it]"
     ]
    },
    {
     "name": "stdout",
     "output_type": "stream",
     "text": [
      "Validation accuracy:  0.6666666666666666\n",
      "itr: 04 \t loss: 772.00 \t acc : 0.62\n"
     ]
    },
    {
     "name": "stderr",
     "output_type": "stream",
     "text": [
      "\r",
      " 17%|█████████████▊                                                                     | 5/30 [00:32<02:43,  6.52s/it]"
     ]
    },
    {
     "name": "stdout",
     "output_type": "stream",
     "text": [
      "Validation accuracy:  0.6045400238948626\n"
     ]
    },
    {
     "name": "stderr",
     "output_type": "stream",
     "text": [
      "\r",
      " 20%|████████████████▌                                                                  | 6/30 [00:39<02:36,  6.52s/it]"
     ]
    },
    {
     "name": "stdout",
     "output_type": "stream",
     "text": [
      "Validation accuracy:  0.5567502986857825\n",
      "itr: 06 \t loss: 770.76 \t acc : 0.62\n"
     ]
    },
    {
     "name": "stderr",
     "output_type": "stream",
     "text": [
      "\r",
      " 23%|███████████████████▎                                                               | 7/30 [00:45<02:29,  6.51s/it]"
     ]
    },
    {
     "name": "stdout",
     "output_type": "stream",
     "text": [
      "Validation accuracy:  0.6786140979689367\n"
     ]
    },
    {
     "name": "stderr",
     "output_type": "stream",
     "text": [
      "\r",
      " 27%|██████████████████████▏                                                            | 8/30 [00:52<02:23,  6.51s/it]"
     ]
    },
    {
     "name": "stdout",
     "output_type": "stream",
     "text": [
      "Validation accuracy:  0.6989247311827956\n"
     ]
    },
    {
     "name": "stderr",
     "output_type": "stream",
     "text": [
      "\r",
      " 30%|████████████████████████▉                                                          | 9/30 [00:58<02:16,  6.51s/it]"
     ]
    },
    {
     "name": "stdout",
     "output_type": "stream",
     "text": [
      "itr: 08 \t loss: 770.04 \t acc : 0.62\n",
      "Validation accuracy:  0.43608124253285546\n"
     ]
    },
    {
     "name": "stderr",
     "output_type": "stream",
     "text": [
      "\r",
      " 33%|███████████████████████████▎                                                      | 10/30 [01:05<02:10,  6.52s/it]"
     ]
    },
    {
     "name": "stdout",
     "output_type": "stream",
     "text": [
      "Validation accuracy:  0.5925925925925927\n",
      "itr: 10 \t loss: 769.71 \t acc : 0.62\n"
     ]
    },
    {
     "name": "stderr",
     "output_type": "stream",
     "text": [
      "\r",
      " 37%|██████████████████████████████                                                    | 11/30 [01:11<02:03,  6.51s/it]"
     ]
    },
    {
     "name": "stdout",
     "output_type": "stream",
     "text": [
      "Validation accuracy:  0.6308243727598567\n"
     ]
    },
    {
     "name": "stderr",
     "output_type": "stream",
     "text": [
      "\r",
      " 40%|████████████████████████████████▊                                                 | 12/30 [01:18<01:57,  6.50s/it]"
     ]
    },
    {
     "name": "stdout",
     "output_type": "stream",
     "text": [
      "Validation accuracy:  0.7383512544802867\n"
     ]
    },
    {
     "name": "stderr",
     "output_type": "stream",
     "text": [
      "\r",
      " 43%|███████████████████████████████████▌                                              | 13/30 [01:24<01:50,  6.49s/it]"
     ]
    },
    {
     "name": "stdout",
     "output_type": "stream",
     "text": [
      "itr: 12 \t loss: 769.59 \t acc : 0.62\n",
      "Validation accuracy:  0.5794504181600956\n"
     ]
    },
    {
     "name": "stderr",
     "output_type": "stream",
     "text": [
      "\r",
      " 47%|██████████████████████████████████████▎                                           | 14/30 [01:30<01:43,  6.45s/it]"
     ]
    },
    {
     "name": "stdout",
     "output_type": "stream",
     "text": [
      "Validation accuracy:  0.6272401433691757\n"
     ]
    },
    {
     "name": "stderr",
     "output_type": "stream",
     "text": [
      "\r",
      " 50%|█████████████████████████████████████████                                         | 15/30 [01:37<01:36,  6.43s/it]"
     ]
    },
    {
     "name": "stdout",
     "output_type": "stream",
     "text": [
      "itr: 14 \t loss: 769.52 \t acc : 0.62\n",
      "Validation accuracy:  0.5890083632019115\n"
     ]
    },
    {
     "name": "stderr",
     "output_type": "stream",
     "text": [
      "\r",
      " 53%|███████████████████████████████████████████▋                                      | 16/30 [01:43<01:29,  6.41s/it]"
     ]
    },
    {
     "name": "stdout",
     "output_type": "stream",
     "text": [
      "Validation accuracy:  0.6284348864994027\n"
     ]
    },
    {
     "name": "stderr",
     "output_type": "stream",
     "text": [
      "\r",
      " 57%|██████████████████████████████████████████████▍                                   | 17/30 [01:50<01:23,  6.40s/it]"
     ]
    },
    {
     "name": "stdout",
     "output_type": "stream",
     "text": [
      "itr: 16 \t loss: 769.47 \t acc : 0.62\n",
      "Validation accuracy:  0.6439665471923537\n"
     ]
    },
    {
     "name": "stderr",
     "output_type": "stream",
     "text": [
      "\r",
      " 60%|█████████████████████████████████████████████████▏                                | 18/30 [01:56<01:16,  6.41s/it]"
     ]
    },
    {
     "name": "stdout",
     "output_type": "stream",
     "text": [
      "Validation accuracy:  0.6296296296296297\n"
     ]
    },
    {
     "name": "stderr",
     "output_type": "stream",
     "text": [
      "\r",
      " 63%|███████████████████████████████████████████████████▉                              | 19/30 [02:02<01:10,  6.42s/it]"
     ]
    },
    {
     "name": "stdout",
     "output_type": "stream",
     "text": [
      "itr: 18 \t loss: 769.54 \t acc : 0.62\n",
      "Validation accuracy:  0.6678614097968937\n"
     ]
    },
    {
     "name": "stderr",
     "output_type": "stream",
     "text": [
      "\r",
      " 67%|██████████████████████████████████████████████████████▋                           | 20/30 [02:09<01:04,  6.45s/it]"
     ]
    },
    {
     "name": "stdout",
     "output_type": "stream",
     "text": [
      "Validation accuracy:  0.7311827956989246\n",
      "itr: 20 \t loss: 769.22 \t acc : 0.62\n"
     ]
    },
    {
     "name": "stderr",
     "output_type": "stream",
     "text": [
      "\r",
      " 70%|█████████████████████████████████████████████████████████▍                        | 21/30 [02:15<00:58,  6.47s/it]"
     ]
    },
    {
     "name": "stdout",
     "output_type": "stream",
     "text": [
      "Validation accuracy:  0.7598566308243727\n"
     ]
    },
    {
     "name": "stderr",
     "output_type": "stream",
     "text": [
      "\r",
      " 73%|████████████████████████████████████████████████████████████▏                     | 22/30 [02:22<00:51,  6.46s/it]"
     ]
    },
    {
     "name": "stdout",
     "output_type": "stream",
     "text": [
      "Validation accuracy:  0.6367980884109916\n",
      "itr: 22 \t loss: 769.99 \t acc : 0.62\n"
     ]
    },
    {
     "name": "stderr",
     "output_type": "stream",
     "text": [
      "\r",
      " 77%|██████████████████████████████████████████████████████████████▊                   | 23/30 [02:28<00:45,  6.51s/it]"
     ]
    },
    {
     "name": "stdout",
     "output_type": "stream",
     "text": [
      "Validation accuracy:  0.6953405017921147\n"
     ]
    },
    {
     "name": "stderr",
     "output_type": "stream",
     "text": [
      "\r",
      " 80%|█████████████████████████████████████████████████████████████████▌                | 24/30 [02:35<00:39,  6.54s/it]"
     ]
    },
    {
     "name": "stdout",
     "output_type": "stream",
     "text": [
      "Validation accuracy:  0.6344086021505376\n",
      "itr: 24 \t loss: 769.03 \t acc : 0.62\n"
     ]
    },
    {
     "name": "stderr",
     "output_type": "stream",
     "text": [
      "\r",
      " 83%|████████████████████████████████████████████████████████████████████▎             | 25/30 [02:42<00:32,  6.55s/it]"
     ]
    },
    {
     "name": "stdout",
     "output_type": "stream",
     "text": [
      "Validation accuracy:  0.5364396654719235\n"
     ]
    },
    {
     "name": "stderr",
     "output_type": "stream",
     "text": [
      "\r",
      " 87%|███████████████████████████████████████████████████████████████████████           | 26/30 [02:48<00:26,  6.55s/it]"
     ]
    },
    {
     "name": "stdout",
     "output_type": "stream",
     "text": [
      "Validation accuracy:  0.5316606929510156\n",
      "itr: 26 \t loss: 768.74 \t acc : 0.62\n"
     ]
    },
    {
     "name": "stderr",
     "output_type": "stream",
     "text": [
      "\r",
      " 90%|█████████████████████████████████████████████████████████████████████████▊        | 27/30 [02:55<00:19,  6.55s/it]"
     ]
    },
    {
     "name": "stdout",
     "output_type": "stream",
     "text": [
      "Validation accuracy:  0.6164874551971326\n"
     ]
    },
    {
     "name": "stderr",
     "output_type": "stream",
     "text": [
      "\r",
      " 93%|████████████████████████████████████████████████████████████████████████████▌     | 28/30 [03:01<00:13,  6.54s/it]"
     ]
    },
    {
     "name": "stdout",
     "output_type": "stream",
     "text": [
      "Validation accuracy:  0.5340501792114695\n",
      "itr: 28 \t loss: 770.19 \t acc : 0.62\n",
      "Validation accuracy:  0.5686977299880526"
     ]
    },
    {
     "name": "stderr",
     "output_type": "stream",
     "text": [
      "\r",
      " 97%|███████████████████████████████████████████████████████████████████████████████▎  | 29/30 [03:08<00:06,  6.52s/it]"
     ]
    },
    {
     "name": "stdout",
     "output_type": "stream",
     "text": [
      "\n"
     ]
    },
    {
     "name": "stderr",
     "output_type": "stream",
     "text": [
      "100%|██████████████████████████████████████████████████████████████████████████████████| 30/30 [03:14<00:00,  6.49s/it]"
     ]
    },
    {
     "name": "stdout",
     "output_type": "stream",
     "text": [
      "Validation accuracy:  0.6726403823178017\n"
     ]
    },
    {
     "name": "stderr",
     "output_type": "stream",
     "text": [
      "\n"
     ]
    }
   ],
   "source": [
    "max_iters = 30\n",
    "batch_size =10\n",
    "learning_rate = (1e-4)\n",
    "hidden_size = 10\n",
    "hidden_size2 = 64\n",
    "batches = get_random_batches(traindesc,trainy,batch_size)\n",
    "batch_num = len(batches)\n",
    "paramsf = {}\n",
    "initialize_weights(64000,hidden_size,paramsf,'layer1')\n",
    "#initialize_weights(hidden_size,hidden_size2,paramsf,'layer2')\n",
    "initialize_weights(hidden_size,2,paramsf,'output')\n",
    "\n",
    "t=[]\n",
    "v=[]\n",
    "to=[]\n",
    "vo=[]\n",
    "best=0\n",
    "for itr in tqdm(range(max_iters)):\n",
    "    total_loss = 0\n",
    "    avg_acc=0\n",
    "    total_acc = 0\n",
    "    for xb,yb in batches:\n",
    "        h1 = forward(xb,paramsf,'layer1')\n",
    "        probs = forward(h1, paramsf,'output',softmax)\n",
    "\n",
    "  \n",
    "        loss, acc = compute_loss_and_acc(yb, probs)\n",
    "        #print('hello1')\n",
    "        total_loss =total_loss+ loss\n",
    "        avg_acc=avg_acc+acc\n",
    "\n",
    "        delta1 = probs - yb\n",
    "        delta2 = backwards(delta1, paramsf, 'output', linear_deriv)\n",
    "        backwards(delta2, paramsf, 'layer1', sigmoid_deriv)\n",
    "        #print('hello')\n",
    "        paramsf['Wlayer1']-=learning_rate* paramsf['grad_Wlayer1']\n",
    "        paramsf['blayer1']-=learning_rate*paramsf['grad_blayer1']\n",
    "        paramsf['Woutput']-=learning_rate*paramsf['grad_Woutput']\n",
    "        paramsf['boutput']-=learning_rate*paramsf['grad_boutput']\n",
    " \n",
    "    total_acc =avg_acc/ batch_num\n",
    "    t.append(total_acc)\n",
    "    to.append(total_loss)\n",
    "    if itr % 2 == 0:\n",
    "        print(\"itr: {:02d} \\t loss: {:.2f} \\t acc : {:.2f}\".format(itr,total_loss,total_acc))\n",
    "    \n",
    "    bv = get_random_batches(validxdesc,validy,validy.shape[0])\n",
    "    bnv = len(bv)\n",
    "    total_lossv = 0\n",
    "    avg_accv=0\n",
    "    total_accv = 0\n",
    "    for xbv,ybv in bv:\n",
    "        h1v = forward(xbv,paramsf,'layer1')\n",
    "        probs = forward(h1v, paramsf,'output',softmax)\n",
    "        loss, acc = compute_loss_and_acc(ybv, probs)\n",
    "        total_lossv =total_lossv+ loss\n",
    "        avg_accv=avg_accv+acc\n",
    "    valid_accv =avg_accv/ bnv\n",
    "    v.append(valid_accv)\n",
    "    vo.append(total_lossv)\n",
    "\n",
    "    print('Validation accuracy: ',valid_accv)\n",
    "    if valid_accv>best:\n",
    "        best=valid_accv\n",
    "        bestd=copy.copy(paramsf)"
   ]
  },
  {
   "cell_type": "code",
   "execution_count": 46,
   "id": "c590b53b",
   "metadata": {},
   "outputs": [],
   "source": [
    "itr=[]\n",
    "for i in range(1,31):\n",
    "    itr.append(i)"
   ]
  },
  {
   "cell_type": "code",
   "execution_count": 47,
   "id": "f2c455c6",
   "metadata": {},
   "outputs": [],
   "source": [
    "t=np.array(t)\n",
    "v=np.array(v)\n",
    "to=np.array(to)\n",
    "vo=np.array(vo)"
   ]
  },
  {
   "cell_type": "code",
   "execution_count": 48,
   "id": "b940e224",
   "metadata": {},
   "outputs": [
    {
     "data": {
      "text/plain": [
       "0.6198275862068968"
      ]
     },
     "execution_count": 48,
     "metadata": {},
     "output_type": "execute_result"
    }
   ],
   "source": [
    "t[-1]"
   ]
  },
  {
   "cell_type": "code",
   "execution_count": 49,
   "id": "13492ba4",
   "metadata": {},
   "outputs": [
    {
     "data": {
      "text/plain": [
       "0.6726403823178017"
      ]
     },
     "execution_count": 49,
     "metadata": {},
     "output_type": "execute_result"
    }
   ],
   "source": [
    "v[-1]"
   ]
  },
  {
   "cell_type": "code",
   "execution_count": 50,
   "id": "fdb6be37",
   "metadata": {},
   "outputs": [
    {
     "data": {
      "text/plain": [
       "<matplotlib.legend.Legend at 0x1a4e5d7af50>"
      ]
     },
     "execution_count": 50,
     "metadata": {},
     "output_type": "execute_result"
    },
    {
     "data": {
      "image/png": "[encoded data removed]",
      "text/plain": [
       "<Figure size 432x288 with 1 Axes>"
      ]
     },
     "metadata": {
      "needs_background": "light"
     },
     "output_type": "display_data"
    }
   ],
   "source": [
    "plt.plot(itr,t,'r',label='training acc')\n",
    "plt.plot(itr,v,'g',label='validation acc')\n",
    "plt.legend()"
   ]
  },
  {
   "cell_type": "code",
   "execution_count": 51,
   "id": "e57476a9",
   "metadata": {},
   "outputs": [
    {
     "data": {
      "text/plain": [
       "<matplotlib.legend.Legend at 0x1a4e6307d30>"
      ]
     },
     "execution_count": 51,
     "metadata": {},
     "output_type": "execute_result"
    },
    {
     "data": {
      "image/png": "[encoded data removed]",
      "text/plain": [
       "<Figure size 432x288 with 1 Axes>"
      ]
     },
     "metadata": {
      "needs_background": "light"
     },
     "output_type": "display_data"
    }
   ],
   "source": [
    "plt.plot(itr,to,'r',label='training loss')\n",
    "plt.plot(itr,vo,'g',label='validation loss')\n",
    "plt.legend()"
   ]
  },
  {
   "cell_type": "code",
   "execution_count": 52,
   "id": "08474756",
   "metadata": {},
   "outputs": [
    {
     "data": {
      "text/plain": [
       "0.7598566308243727"
      ]
     },
     "execution_count": 52,
     "metadata": {},
     "output_type": "execute_result"
    }
   ],
   "source": [
    "best"
   ]
  },
  {
   "cell_type": "markdown",
   "id": "e1fc295d",
   "metadata": {},
   "source": [
    "## nn sift lr -4 hidden size 20 "
   ]
  },
  {
   "cell_type": "code",
   "execution_count": 53,
   "id": "3251b13b",
   "metadata": {},
   "outputs": [
    {
     "name": "stderr",
     "output_type": "stream",
     "text": [
      "\r",
      "  0%|                                                                                           | 0/30 [00:00<?, ?it/s]"
     ]
    },
    {
     "name": "stdout",
     "output_type": "stream",
     "text": [
      "itr: 00 \t loss: 835.65 \t acc : 0.58\n"
     ]
    },
    {
     "name": "stderr",
     "output_type": "stream",
     "text": [
      "\r",
      "  3%|██▊                                                                                | 1/30 [00:11<05:29, 11.38s/it]"
     ]
    },
    {
     "name": "stdout",
     "output_type": "stream",
     "text": [
      "Validation accuracy:  0.3643966547192354\n"
     ]
    },
    {
     "name": "stderr",
     "output_type": "stream",
     "text": [
      "\r",
      "  7%|█████▌                                                                             | 2/30 [00:24<05:41, 12.18s/it]"
     ]
    },
    {
     "name": "stdout",
     "output_type": "stream",
     "text": [
      "Validation accuracy:  0.6332138590203106\n",
      "itr: 02 \t loss: 778.35 \t acc : 0.62\n"
     ]
    },
    {
     "name": "stderr",
     "output_type": "stream",
     "text": [
      "\r",
      " 10%|████████▎                                                                          | 3/30 [00:35<05:20, 11.86s/it]"
     ]
    },
    {
     "name": "stdout",
     "output_type": "stream",
     "text": [
      "Validation accuracy:  0.5997610513739545\n"
     ]
    },
    {
     "name": "stderr",
     "output_type": "stream",
     "text": [
      "\r",
      " 13%|███████████                                                                        | 4/30 [00:46<05:02, 11.63s/it]"
     ]
    },
    {
     "name": "stdout",
     "output_type": "stream",
     "text": [
      "Validation accuracy:  0.5448028673835125\n",
      "itr: 04 \t loss: 768.89 \t acc : 0.62\n"
     ]
    },
    {
     "name": "stderr",
     "output_type": "stream",
     "text": [
      "\r",
      " 17%|█████████████▊                                                                     | 5/30 [00:58<04:47, 11.49s/it]"
     ]
    },
    {
     "name": "stdout",
     "output_type": "stream",
     "text": [
      "Validation accuracy:  0.5818399044205496\n"
     ]
    },
    {
     "name": "stderr",
     "output_type": "stream",
     "text": [
      "\r",
      " 20%|████████████████▌                                                                  | 6/30 [01:09<04:33, 11.41s/it]"
     ]
    },
    {
     "name": "stdout",
     "output_type": "stream",
     "text": [
      "Validation accuracy:  0.6356033452807647\n",
      "itr: 06 \t loss: 768.64 \t acc : 0.62\n"
     ]
    },
    {
     "name": "stderr",
     "output_type": "stream",
     "text": [
      "\r",
      " 23%|███████████████████▎                                                               | 7/30 [01:20<04:22, 11.41s/it]"
     ]
    },
    {
     "name": "stdout",
     "output_type": "stream",
     "text": [
      "Validation accuracy:  0.6224611708482676\n"
     ]
    },
    {
     "name": "stderr",
     "output_type": "stream",
     "text": [
      "\r",
      " 27%|██████████████████████▏                                                            | 8/30 [01:32<04:10, 11.36s/it]"
     ]
    },
    {
     "name": "stdout",
     "output_type": "stream",
     "text": [
      "Validation accuracy:  0.6475507765830346\n",
      "itr: 08 \t loss: 768.73 \t acc : 0.62\n"
     ]
    },
    {
     "name": "stderr",
     "output_type": "stream",
     "text": [
      "\r",
      " 30%|████████████████████████▉                                                          | 9/30 [01:43<03:59, 11.43s/it]"
     ]
    },
    {
     "name": "stdout",
     "output_type": "stream",
     "text": [
      "Validation accuracy:  0.7491039426523297\n"
     ]
    },
    {
     "name": "stderr",
     "output_type": "stream",
     "text": [
      "\r",
      " 33%|███████████████████████████▎                                                      | 10/30 [01:54<03:47, 11.38s/it]"
     ]
    },
    {
     "name": "stdout",
     "output_type": "stream",
     "text": [
      "Validation accuracy:  0.6965352449223418\n",
      "itr: 10 \t loss: 768.77 \t acc : 0.62\n"
     ]
    },
    {
     "name": "stderr",
     "output_type": "stream",
     "text": [
      "\r",
      " 37%|██████████████████████████████                                                    | 11/30 [02:06<03:39, 11.53s/it]"
     ]
    },
    {
     "name": "stdout",
     "output_type": "stream",
     "text": [
      "Validation accuracy:  0.4719235364396655\n"
     ]
    },
    {
     "name": "stderr",
     "output_type": "stream",
     "text": [
      "\r",
      " 40%|████████████████████████████████▊                                                 | 12/30 [02:19<03:31, 11.75s/it]"
     ]
    },
    {
     "name": "stdout",
     "output_type": "stream",
     "text": [
      "Validation accuracy:  0.5830346475507766\n",
      "itr: 12 \t loss: 768.77 \t acc : 0.62\n"
     ]
    },
    {
     "name": "stderr",
     "output_type": "stream",
     "text": [
      "\r",
      " 43%|███████████████████████████████████▌                                              | 13/30 [02:30<03:16, 11.57s/it]"
     ]
    },
    {
     "name": "stdout",
     "output_type": "stream",
     "text": [
      "Validation accuracy:  0.5483870967741935\n"
     ]
    },
    {
     "name": "stderr",
     "output_type": "stream",
     "text": [
      "\r",
      " 47%|██████████████████████████████████████▎                                           | 14/30 [02:41<03:04, 11.52s/it]"
     ]
    },
    {
     "name": "stdout",
     "output_type": "stream",
     "text": [
      "Validation accuracy:  0.5244922341696535\n",
      "itr: 14 \t loss: 768.75 \t acc : 0.62\n"
     ]
    },
    {
     "name": "stderr",
     "output_type": "stream",
     "text": [
      "\r",
      " 50%|█████████████████████████████████████████                                         | 15/30 [02:52<02:52, 11.48s/it]"
     ]
    },
    {
     "name": "stdout",
     "output_type": "stream",
     "text": [
      "Validation accuracy:  0.6045400238948626\n"
     ]
    },
    {
     "name": "stderr",
     "output_type": "stream",
     "text": [
      "\r",
      " 53%|███████████████████████████████████████████▋                                      | 16/30 [03:04<02:40, 11.45s/it]"
     ]
    },
    {
     "name": "stdout",
     "output_type": "stream",
     "text": [
      "Validation accuracy:  0.6893667861409796\n",
      "itr: 16 \t loss: 768.73 \t acc : 0.62\n"
     ]
    },
    {
     "name": "stderr",
     "output_type": "stream",
     "text": [
      "\r",
      " 57%|██████████████████████████████████████████████▍                                   | 17/30 [03:15<02:28, 11.43s/it]"
     ]
    },
    {
     "name": "stdout",
     "output_type": "stream",
     "text": [
      "Validation accuracy:  0.6702508960573477\n"
     ]
    },
    {
     "name": "stderr",
     "output_type": "stream",
     "text": [
      "\r",
      " 60%|█████████████████████████████████████████████████▏                                | 18/30 [03:27<02:16, 11.41s/it]"
     ]
    },
    {
     "name": "stdout",
     "output_type": "stream",
     "text": [
      "Validation accuracy:  0.6344086021505375\n",
      "itr: 18 \t loss: 768.73 \t acc : 0.62\n"
     ]
    },
    {
     "name": "stderr",
     "output_type": "stream",
     "text": [
      "\r",
      " 63%|███████████████████████████████████████████████████▉                              | 19/30 [03:38<02:05, 11.43s/it]"
     ]
    },
    {
     "name": "stdout",
     "output_type": "stream",
     "text": [
      "Validation accuracy:  0.6559139784946236\n"
     ]
    },
    {
     "name": "stderr",
     "output_type": "stream",
     "text": [
      "\r",
      " 67%|██████████████████████████████████████████████████████▋                           | 20/30 [03:49<01:54, 11.42s/it]"
     ]
    },
    {
     "name": "stdout",
     "output_type": "stream",
     "text": [
      "Validation accuracy:  0.5913978494623656\n",
      "itr: 20 \t loss: 768.73 \t acc : 0.62\n"
     ]
    },
    {
     "name": "stderr",
     "output_type": "stream",
     "text": [
      "\r",
      " 70%|█████████████████████████████████████████████████████████▍                        | 21/30 [04:01<01:42, 11.38s/it]"
     ]
    },
    {
     "name": "stdout",
     "output_type": "stream",
     "text": [
      "Validation accuracy:  0.7025089605734767\n"
     ]
    },
    {
     "name": "stderr",
     "output_type": "stream",
     "text": [
      "\r",
      " 73%|████████████████████████████████████████████████████████████▏                     | 22/30 [04:12<01:30, 11.27s/it]"
     ]
    },
    {
     "name": "stdout",
     "output_type": "stream",
     "text": [
      "Validation accuracy:  0.5495818399044206\n",
      "itr: 22 \t loss: 768.73 \t acc : 0.62\n"
     ]
    },
    {
     "name": "stderr",
     "output_type": "stream",
     "text": [
      "\r",
      " 77%|██████████████████████████████████████████████████████████████▊                   | 23/30 [04:23<01:18, 11.24s/it]"
     ]
    },
    {
     "name": "stdout",
     "output_type": "stream",
     "text": [
      "Validation accuracy:  0.6403823178016727\n"
     ]
    },
    {
     "name": "stderr",
     "output_type": "stream",
     "text": [
      "\r",
      " 80%|█████████████████████████████████████████████████████████████████▌                | 24/30 [04:34<01:07, 11.33s/it]"
     ]
    },
    {
     "name": "stdout",
     "output_type": "stream",
     "text": [
      "Validation accuracy:  0.6475507765830346\n",
      "itr: 24 \t loss: 768.73 \t acc : 0.62\n"
     ]
    },
    {
     "name": "stderr",
     "output_type": "stream",
     "text": [
      "\r",
      " 83%|████████████████████████████████████████████████████████████████████▎             | 25/30 [04:46<00:56, 11.36s/it]"
     ]
    },
    {
     "name": "stdout",
     "output_type": "stream",
     "text": [
      "Validation accuracy:  0.6845878136200717\n"
     ]
    },
    {
     "name": "stderr",
     "output_type": "stream",
     "text": [
      "\r",
      " 87%|███████████████████████████████████████████████████████████████████████           | 26/30 [04:57<00:45, 11.34s/it]"
     ]
    },
    {
     "name": "stdout",
     "output_type": "stream",
     "text": [
      "Validation accuracy:  0.5651135005973716\n",
      "itr: 26 \t loss: 768.73 \t acc : 0.62\n"
     ]
    },
    {
     "name": "stderr",
     "output_type": "stream",
     "text": [
      "\r",
      " 90%|█████████████████████████████████████████████████████████████████████████▊        | 27/30 [05:09<00:34, 11.37s/it]"
     ]
    },
    {
     "name": "stdout",
     "output_type": "stream",
     "text": [
      "Validation accuracy:  0.5627240143369175\n"
     ]
    },
    {
     "name": "stderr",
     "output_type": "stream",
     "text": [
      "\r",
      " 93%|████████████████████████████████████████████████████████████████████████████▌     | 28/30 [05:20<00:22, 11.41s/it]"
     ]
    },
    {
     "name": "stdout",
     "output_type": "stream",
     "text": [
      "Validation accuracy:  0.7264038231780168\n",
      "itr: 28 \t loss: 768.72 \t acc : 0.62\n"
     ]
    },
    {
     "name": "stderr",
     "output_type": "stream",
     "text": [
      "\r",
      " 97%|███████████████████████████████████████████████████████████████████████████████▎  | 29/30 [05:32<00:11, 11.40s/it]"
     ]
    },
    {
     "name": "stdout",
     "output_type": "stream",
     "text": [
      "Validation accuracy:  0.5663082437275985\n"
     ]
    },
    {
     "name": "stderr",
     "output_type": "stream",
     "text": [
      "100%|██████████████████████████████████████████████████████████████████████████████████| 30/30 [05:43<00:00, 11.45s/it]"
     ]
    },
    {
     "name": "stdout",
     "output_type": "stream",
     "text": [
      "Validation accuracy:  0.6810035842293907\n"
     ]
    },
    {
     "name": "stderr",
     "output_type": "stream",
     "text": [
      "\n"
     ]
    }
   ],
   "source": [
    "max_iters = 30\n",
    "batch_size =10\n",
    "learning_rate = (1e-4)\n",
    "hidden_size = 20\n",
    "hidden_size2 = 64\n",
    "batches = get_random_batches(traindesc,trainy,batch_size)\n",
    "batch_num = len(batches)\n",
    "paramsf = {}\n",
    "initialize_weights(64000,hidden_size,paramsf,'layer1')\n",
    "#initialize_weights(hidden_size,hidden_size2,paramsf,'layer2')\n",
    "initialize_weights(hidden_size,2,paramsf,'output')\n",
    "\n",
    "t=[]\n",
    "v=[]\n",
    "to=[]\n",
    "vo=[]\n",
    "best=0\n",
    "for itr in tqdm(range(max_iters)):\n",
    "    total_loss = 0\n",
    "    avg_acc=0\n",
    "    total_acc = 0\n",
    "    for xb,yb in batches:\n",
    "        h1 = forward(xb,paramsf,'layer1')\n",
    "        probs = forward(h1, paramsf,'output',softmax)\n",
    "\n",
    "  \n",
    "        loss, acc = compute_loss_and_acc(yb, probs)\n",
    "        #print('hello1')\n",
    "        total_loss =total_loss+ loss\n",
    "        avg_acc=avg_acc+acc\n",
    "\n",
    "        delta1 = probs - yb\n",
    "        delta2 = backwards(delta1, paramsf, 'output', linear_deriv)\n",
    "        backwards(delta2, paramsf, 'layer1', sigmoid_deriv)\n",
    "        #print('hello')\n",
    "        paramsf['Wlayer1']-=learning_rate* paramsf['grad_Wlayer1']\n",
    "        paramsf['blayer1']-=learning_rate*paramsf['grad_blayer1']\n",
    "        paramsf['Woutput']-=learning_rate*paramsf['grad_Woutput']\n",
    "        paramsf['boutput']-=learning_rate*paramsf['grad_boutput']\n",
    " \n",
    "    total_acc =avg_acc/ batch_num\n",
    "    t.append(total_acc)\n",
    "    to.append(total_loss)\n",
    "    if itr % 2 == 0:\n",
    "        print(\"itr: {:02d} \\t loss: {:.2f} \\t acc : {:.2f}\".format(itr,total_loss,total_acc))\n",
    "    \n",
    "    bv = get_random_batches(validxdesc,validy,validy.shape[0])\n",
    "    bnv = len(bv)\n",
    "    total_lossv = 0\n",
    "    avg_accv=0\n",
    "    total_accv = 0\n",
    "    for xbv,ybv in bv:\n",
    "        h1v = forward(xbv,paramsf,'layer1')\n",
    "        probs = forward(h1v, paramsf,'output',softmax)\n",
    "        loss, acc = compute_loss_and_acc(ybv, probs)\n",
    "        total_lossv =total_lossv+ loss\n",
    "        avg_accv=avg_accv+acc\n",
    "    valid_accv =avg_accv/ bnv\n",
    "    v.append(valid_accv)\n",
    "    vo.append(total_lossv)\n",
    "\n",
    "    print('Validation accuracy: ',valid_accv)\n",
    "    if valid_accv>best:\n",
    "        best=valid_accv\n",
    "        bestd=copy.copy(paramsf)"
   ]
  },
  {
   "cell_type": "code",
   "execution_count": 54,
   "id": "8650818a",
   "metadata": {},
   "outputs": [],
   "source": [
    "itr=[]\n",
    "for i in range(1,31):\n",
    "    itr.append(i)"
   ]
  },
  {
   "cell_type": "code",
   "execution_count": 55,
   "id": "a70a0e5a",
   "metadata": {},
   "outputs": [],
   "source": [
    "t=np.array(t)\n",
    "v=np.array(v)\n",
    "to=np.array(to)\n",
    "vo=np.array(vo)"
   ]
  },
  {
   "cell_type": "code",
   "execution_count": 56,
   "id": "2d26744d",
   "metadata": {},
   "outputs": [
    {
     "data": {
      "text/plain": [
       "0.6224137931034486"
      ]
     },
     "execution_count": 56,
     "metadata": {},
     "output_type": "execute_result"
    }
   ],
   "source": [
    "t[-1]"
   ]
  },
  {
   "cell_type": "code",
   "execution_count": 57,
   "id": "18cc5d26",
   "metadata": {},
   "outputs": [
    {
     "data": {
      "text/plain": [
       "0.6810035842293907"
      ]
     },
     "execution_count": 57,
     "metadata": {},
     "output_type": "execute_result"
    }
   ],
   "source": [
    "v[-1]"
   ]
  },
  {
   "cell_type": "code",
   "execution_count": 58,
   "id": "bd807454",
   "metadata": {},
   "outputs": [
    {
     "data": {
      "text/plain": [
       "<matplotlib.legend.Legend at 0x1a4dfb9bb50>"
      ]
     },
     "execution_count": 58,
     "metadata": {},
     "output_type": "execute_result"
    },
    {
     "data": {
      "image/png": "[encoded data removed]",
      "text/plain": [
       "<Figure size 432x288 with 1 Axes>"
      ]
     },
     "metadata": {
      "needs_background": "light"
     },
     "output_type": "display_data"
    }
   ],
   "source": [
    "plt.plot(itr,t,'r',label='training acc')\n",
    "plt.plot(itr,v,'g',label='validation acc')\n",
    "plt.legend()"
   ]
  },
  {
   "cell_type": "code",
   "execution_count": 59,
   "id": "08a7fedd",
   "metadata": {},
   "outputs": [
    {
     "data": {
      "text/plain": [
       "<matplotlib.legend.Legend at 0x1a4e6376710>"
      ]
     },
     "execution_count": 59,
     "metadata": {},
     "output_type": "execute_result"
    },
    {
     "data": {
      "image/png": "[encoded data removed]",
      "text/plain": [
       "<Figure size 432x288 with 1 Axes>"
      ]
     },
     "metadata": {
      "needs_background": "light"
     },
     "output_type": "display_data"
    }
   ],
   "source": [
    "plt.plot(itr,to,'r',label='training loss')\n",
    "plt.plot(itr,vo,'g',label='validation loss')\n",
    "plt.legend()"
   ]
  },
  {
   "cell_type": "code",
   "execution_count": 60,
   "id": "226e8877",
   "metadata": {},
   "outputs": [
    {
     "data": {
      "text/plain": [
       "0.7491039426523297"
      ]
     },
     "execution_count": 60,
     "metadata": {},
     "output_type": "execute_result"
    }
   ],
   "source": [
    "best"
   ]
  },
  {
   "cell_type": "markdown",
   "id": "ebfff732",
   "metadata": {},
   "source": [
    "## nn sift lr -3 hidden size 20 "
   ]
  },
  {
   "cell_type": "code",
   "execution_count": 61,
   "id": "9f051693",
   "metadata": {},
   "outputs": [
    {
     "name": "stderr",
     "output_type": "stream",
     "text": [
      "\r",
      "  0%|                                                                                           | 0/30 [00:00<?, ?it/s]"
     ]
    },
    {
     "name": "stdout",
     "output_type": "stream",
     "text": [
      "itr: 00 \t loss: 817.40 \t acc : 0.62\n"
     ]
    },
    {
     "name": "stderr",
     "output_type": "stream",
     "text": [
      "\r",
      "  3%|██▊                                                                                | 1/30 [00:11<05:34, 11.53s/it]"
     ]
    },
    {
     "name": "stdout",
     "output_type": "stream",
     "text": [
      "Validation accuracy:  0.7395459976105138\n"
     ]
    },
    {
     "name": "stderr",
     "output_type": "stream",
     "text": [
      "\r",
      "  7%|█████▌                                                                             | 2/30 [00:22<05:21, 11.47s/it]"
     ]
    },
    {
     "name": "stdout",
     "output_type": "stream",
     "text": [
      "Validation accuracy:  0.5507765830346476\n",
      "itr: 02 \t loss: 773.44 \t acc : 0.62\n"
     ]
    },
    {
     "name": "stderr",
     "output_type": "stream",
     "text": [
      "\r",
      " 10%|████████▎                                                                          | 3/30 [00:34<05:08, 11.44s/it]"
     ]
    },
    {
     "name": "stdout",
     "output_type": "stream",
     "text": [
      "Validation accuracy:  0.4229390681003585\n"
     ]
    },
    {
     "name": "stderr",
     "output_type": "stream",
     "text": [
      "\r",
      " 13%|███████████                                                                        | 4/30 [00:46<04:59, 11.52s/it]"
     ]
    },
    {
     "name": "stdout",
     "output_type": "stream",
     "text": [
      "Validation accuracy:  0.6738351254480287\n",
      "itr: 04 \t loss: 773.02 \t acc : 0.62\n"
     ]
    },
    {
     "name": "stderr",
     "output_type": "stream",
     "text": [
      "\r",
      " 17%|█████████████▊                                                                     | 5/30 [00:57<04:47, 11.48s/it]"
     ]
    },
    {
     "name": "stdout",
     "output_type": "stream",
     "text": [
      "Validation accuracy:  0.5268817204301076\n"
     ]
    },
    {
     "name": "stderr",
     "output_type": "stream",
     "text": [
      "\r",
      " 20%|████████████████▌                                                                  | 6/30 [01:08<04:35, 11.49s/it]"
     ]
    },
    {
     "name": "stdout",
     "output_type": "stream",
     "text": [
      "Validation accuracy:  0.6129032258064516\n",
      "itr: 06 \t loss: 773.62 \t acc : 0.62\n"
     ]
    },
    {
     "name": "stderr",
     "output_type": "stream",
     "text": [
      "\r",
      " 23%|███████████████████▎                                                               | 7/30 [01:20<04:23, 11.46s/it]"
     ]
    },
    {
     "name": "stdout",
     "output_type": "stream",
     "text": [
      "Validation accuracy:  0.5651135005973716\n"
     ]
    },
    {
     "name": "stderr",
     "output_type": "stream",
     "text": [
      "\r",
      " 27%|██████████████████████▏                                                            | 8/30 [01:31<04:10, 11.37s/it]"
     ]
    },
    {
     "name": "stdout",
     "output_type": "stream",
     "text": [
      "Validation accuracy:  0.5412186379928315\n",
      "itr: 08 \t loss: 773.61 \t acc : 0.62\n"
     ]
    },
    {
     "name": "stderr",
     "output_type": "stream",
     "text": [
      "\r",
      " 30%|████████████████████████▉                                                          | 9/30 [01:43<04:00, 11.45s/it]"
     ]
    },
    {
     "name": "stdout",
     "output_type": "stream",
     "text": [
      "Validation accuracy:  0.5483870967741936\n"
     ]
    },
    {
     "name": "stderr",
     "output_type": "stream",
     "text": [
      "\r",
      " 33%|███████████████████████████▎                                                      | 10/30 [01:54<03:48, 11.40s/it]"
     ]
    },
    {
     "name": "stdout",
     "output_type": "stream",
     "text": [
      "Validation accuracy:  0.6152927120669056\n",
      "itr: 10 \t loss: 773.61 \t acc : 0.62\n"
     ]
    },
    {
     "name": "stderr",
     "output_type": "stream",
     "text": [
      "\r",
      " 37%|██████████████████████████████                                                    | 11/30 [02:06<03:39, 11.53s/it]"
     ]
    },
    {
     "name": "stdout",
     "output_type": "stream",
     "text": [
      "Validation accuracy:  0.6129032258064516\n"
     ]
    },
    {
     "name": "stderr",
     "output_type": "stream",
     "text": [
      "\r",
      " 40%|████████████████████████████████▊                                                 | 12/30 [02:17<03:27, 11.52s/it]"
     ]
    },
    {
     "name": "stdout",
     "output_type": "stream",
     "text": [
      "Validation accuracy:  0.6523297491039427\n",
      "itr: 12 \t loss: 773.61 \t acc : 0.62\n"
     ]
    },
    {
     "name": "stderr",
     "output_type": "stream",
     "text": [
      "\r",
      " 43%|███████████████████████████████████▌                                              | 13/30 [02:29<03:16, 11.58s/it]"
     ]
    },
    {
     "name": "stdout",
     "output_type": "stream",
     "text": [
      "Validation accuracy:  0.5770609318996416\n"
     ]
    },
    {
     "name": "stderr",
     "output_type": "stream",
     "text": [
      "\r",
      " 47%|██████████████████████████████████████▎                                           | 14/30 [02:40<03:03, 11.47s/it]"
     ]
    },
    {
     "name": "stdout",
     "output_type": "stream",
     "text": [
      "Validation accuracy:  0.5388291517323776\n",
      "itr: 14 \t loss: 773.60 \t acc : 0.62\n"
     ]
    },
    {
     "name": "stderr",
     "output_type": "stream",
     "text": [
      "\r",
      " 50%|█████████████████████████████████████████                                         | 15/30 [02:52<02:52, 11.53s/it]"
     ]
    },
    {
     "name": "stdout",
     "output_type": "stream",
     "text": [
      "Validation accuracy:  0.6356033452807646\n"
     ]
    },
    {
     "name": "stderr",
     "output_type": "stream",
     "text": [
      "\r",
      " 53%|███████████████████████████████████████████▋                                      | 16/30 [03:03<02:40, 11.45s/it]"
     ]
    },
    {
     "name": "stdout",
     "output_type": "stream",
     "text": [
      "Validation accuracy:  0.6033452807646356\n",
      "itr: 16 \t loss: 773.60 \t acc : 0.62\n"
     ]
    },
    {
     "name": "stderr",
     "output_type": "stream",
     "text": [
      "\r",
      " 57%|██████████████████████████████████████████████▍                                   | 17/30 [03:14<02:27, 11.32s/it]"
     ]
    },
    {
     "name": "stdout",
     "output_type": "stream",
     "text": [
      "Validation accuracy:  0.6953405017921147\n"
     ]
    },
    {
     "name": "stderr",
     "output_type": "stream",
     "text": [
      "\r",
      " 60%|█████████████████████████████████████████████████▏                                | 18/30 [03:25<02:14, 11.24s/it]"
     ]
    },
    {
     "name": "stdout",
     "output_type": "stream",
     "text": [
      "Validation accuracy:  0.5830346475507766\n"
     ]
    },
    {
     "name": "stderr",
     "output_type": "stream",
     "text": [
      "\r",
      " 63%|███████████████████████████████████████████████████▉                              | 19/30 [03:36<02:02, 11.14s/it]"
     ]
    },
    {
     "name": "stdout",
     "output_type": "stream",
     "text": [
      "itr: 18 \t loss: 773.59 \t acc : 0.62\n",
      "Validation accuracy:  0.6965352449223418\n"
     ]
    },
    {
     "name": "stderr",
     "output_type": "stream",
     "text": [
      "\r",
      " 67%|██████████████████████████████████████████████████████▋                           | 20/30 [03:47<01:50, 11.09s/it]"
     ]
    },
    {
     "name": "stdout",
     "output_type": "stream",
     "text": [
      "Validation accuracy:  0.5961768219832736\n",
      "itr: 20 \t loss: 773.62 \t acc : 0.62\n"
     ]
    },
    {
     "name": "stderr",
     "output_type": "stream",
     "text": [
      "\r",
      " 70%|█████████████████████████████████████████████████████████▍                        | 21/30 [03:58<01:39, 11.05s/it]"
     ]
    },
    {
     "name": "stdout",
     "output_type": "stream",
     "text": [
      "Validation accuracy:  0.4946236559139785\n"
     ]
    },
    {
     "name": "stderr",
     "output_type": "stream",
     "text": [
      "\r",
      " 73%|████████████████████████████████████████████████████████████▏                     | 22/30 [04:09<01:28, 11.01s/it]"
     ]
    },
    {
     "name": "stdout",
     "output_type": "stream",
     "text": [
      "Validation accuracy:  0.5758661887694146\n",
      "itr: 22 \t loss: 773.61 \t acc : 0.62\n"
     ]
    },
    {
     "name": "stderr",
     "output_type": "stream",
     "text": [
      "\r",
      " 77%|██████████████████████████████████████████████████████████████▊                   | 23/30 [04:20<01:16, 10.98s/it]"
     ]
    },
    {
     "name": "stdout",
     "output_type": "stream",
     "text": [
      "Validation accuracy:  0.5866188769414576\n"
     ]
    },
    {
     "name": "stderr",
     "output_type": "stream",
     "text": [
      "\r",
      " 80%|█████████████████████████████████████████████████████████████████▌                | 24/30 [04:31<01:06, 11.00s/it]"
     ]
    },
    {
     "name": "stdout",
     "output_type": "stream",
     "text": [
      "Validation accuracy:  0.5890083632019115\n",
      "itr: 24 \t loss: 773.61 \t acc : 0.62\n"
     ]
    },
    {
     "name": "stderr",
     "output_type": "stream",
     "text": [
      "\r",
      " 83%|████████████████████████████████████████████████████████████████████▎             | 25/30 [04:42<00:54, 10.99s/it]"
     ]
    },
    {
     "name": "stdout",
     "output_type": "stream",
     "text": [
      "Validation accuracy:  0.6965352449223418\n"
     ]
    },
    {
     "name": "stderr",
     "output_type": "stream",
     "text": [
      "\r",
      " 87%|███████████████████████████████████████████████████████████████████████           | 26/30 [04:53<00:44, 11.10s/it]"
     ]
    },
    {
     "name": "stdout",
     "output_type": "stream",
     "text": [
      "Validation accuracy:  0.6869772998805258\n",
      "itr: 26 \t loss: 773.61 \t acc : 0.62\n"
     ]
    },
    {
     "name": "stderr",
     "output_type": "stream",
     "text": [
      "\r",
      " 90%|█████████████████████████████████████████████████████████████████████████▊        | 27/30 [05:05<00:33, 11.20s/it]"
     ]
    },
    {
     "name": "stdout",
     "output_type": "stream",
     "text": [
      "Validation accuracy:  0.5603345280764636\n"
     ]
    },
    {
     "name": "stderr",
     "output_type": "stream",
     "text": [
      "\r",
      " 93%|████████████████████████████████████████████████████████████████████████████▌     | 28/30 [05:16<00:22, 11.22s/it]"
     ]
    },
    {
     "name": "stdout",
     "output_type": "stream",
     "text": [
      "Validation accuracy:  0.6260454002389486\n",
      "itr: 28 \t loss: 773.61 \t acc : 0.62\n"
     ]
    },
    {
     "name": "stderr",
     "output_type": "stream",
     "text": [
      "\r",
      " 97%|███████████████████████████████████████████████████████████████████████████████▎  | 29/30 [05:27<00:11, 11.19s/it]"
     ]
    },
    {
     "name": "stdout",
     "output_type": "stream",
     "text": [
      "Validation accuracy:  0.6965352449223418\n"
     ]
    },
    {
     "name": "stderr",
     "output_type": "stream",
     "text": [
      "100%|██████████████████████████████████████████████████████████████████████████████████| 30/30 [05:38<00:00, 11.28s/it]"
     ]
    },
    {
     "name": "stdout",
     "output_type": "stream",
     "text": [
      "Validation accuracy:  0.5388291517323776\n"
     ]
    },
    {
     "name": "stderr",
     "output_type": "stream",
     "text": [
      "\n"
     ]
    }
   ],
   "source": [
    "max_iters = 30\n",
    "batch_size =10\n",
    "learning_rate = (1e-3)\n",
    "hidden_size = 20\n",
    "hidden_size2 = 64\n",
    "batches = get_random_batches(traindesc,trainy,batch_size)\n",
    "batch_num = len(batches)\n",
    "paramsf = {}\n",
    "initialize_weights(64000,hidden_size,paramsf,'layer1')\n",
    "#initialize_weights(hidden_size,hidden_size2,paramsf,'layer2')\n",
    "initialize_weights(hidden_size,2,paramsf,'output')\n",
    "\n",
    "t=[]\n",
    "v=[]\n",
    "to=[]\n",
    "vo=[]\n",
    "best=0\n",
    "for itr in tqdm(range(max_iters)):\n",
    "    total_loss = 0\n",
    "    avg_acc=0\n",
    "    total_acc = 0\n",
    "    for xb,yb in batches:\n",
    "        h1 = forward(xb,paramsf,'layer1')\n",
    "        probs = forward(h1, paramsf,'output',softmax)\n",
    "\n",
    "  \n",
    "        loss, acc = compute_loss_and_acc(yb, probs)\n",
    "        #print('hello1')\n",
    "        total_loss =total_loss+ loss\n",
    "        avg_acc=avg_acc+acc\n",
    "\n",
    "        delta1 = probs - yb\n",
    "        delta2 = backwards(delta1, paramsf, 'output', linear_deriv)\n",
    "        backwards(delta2, paramsf, 'layer1', sigmoid_deriv)\n",
    "        #print('hello')\n",
    "        paramsf['Wlayer1']-=learning_rate* paramsf['grad_Wlayer1']\n",
    "        paramsf['blayer1']-=learning_rate*paramsf['grad_blayer1']\n",
    "        paramsf['Woutput']-=learning_rate*paramsf['grad_Woutput']\n",
    "        paramsf['boutput']-=learning_rate*paramsf['grad_boutput']\n",
    " \n",
    "    total_acc =avg_acc/ batch_num\n",
    "    t.append(total_acc)\n",
    "    to.append(total_loss)\n",
    "    if itr % 2 == 0:\n",
    "        print(\"itr: {:02d} \\t loss: {:.2f} \\t acc : {:.2f}\".format(itr,total_loss,total_acc))\n",
    "    \n",
    "    bv = get_random_batches(validxdesc,validy,validy.shape[0])\n",
    "    bnv = len(bv)\n",
    "    total_lossv = 0\n",
    "    avg_accv=0\n",
    "    total_accv = 0\n",
    "    for xbv,ybv in bv:\n",
    "        h1v = forward(xbv,paramsf,'layer1')\n",
    "        probs = forward(h1v, paramsf,'output',softmax)\n",
    "        loss, acc = compute_loss_and_acc(ybv, probs)\n",
    "        total_lossv =total_lossv+ loss\n",
    "        avg_accv=avg_accv+acc\n",
    "    valid_accv =avg_accv/ bnv\n",
    "    v.append(valid_accv)\n",
    "    vo.append(total_lossv)\n",
    "\n",
    "    print('Validation accuracy: ',valid_accv)\n",
    "    if valid_accv>best:\n",
    "        best=valid_accv\n",
    "        bestd=copy.copy(paramsf)"
   ]
  },
  {
   "cell_type": "code",
   "execution_count": 62,
   "id": "7ca4f356",
   "metadata": {},
   "outputs": [],
   "source": [
    "itr=[]\n",
    "for i in range(1,31):\n",
    "    itr.append(i)"
   ]
  },
  {
   "cell_type": "code",
   "execution_count": 63,
   "id": "9c27e0cf",
   "metadata": {},
   "outputs": [],
   "source": [
    "t=np.array(t)\n",
    "v=np.array(v)\n",
    "to=np.array(to)\n",
    "vo=np.array(vo)"
   ]
  },
  {
   "cell_type": "code",
   "execution_count": 64,
   "id": "cff54cea",
   "metadata": {},
   "outputs": [
    {
     "data": {
      "text/plain": [
       "<matplotlib.legend.Legend at 0x1a4e63cc790>"
      ]
     },
     "execution_count": 64,
     "metadata": {},
     "output_type": "execute_result"
    },
    {
     "data": {
      "image/png": "[encoded data removed]",
      "text/plain": [
       "<Figure size 432x288 with 1 Axes>"
      ]
     },
     "metadata": {
      "needs_background": "light"
     },
     "output_type": "display_data"
    }
   ],
   "source": [
    "plt.plot(itr,t,'r',label='training acc')\n",
    "plt.plot(itr,v,'g',label='validation acc')\n",
    "plt.legend()"
   ]
  },
  {
   "cell_type": "code",
   "execution_count": 65,
   "id": "eaafbdb0",
   "metadata": {},
   "outputs": [
    {
     "data": {
      "text/plain": [
       "<matplotlib.legend.Legend at 0x1a4d940b490>"
      ]
     },
     "execution_count": 65,
     "metadata": {},
     "output_type": "execute_result"
    },
    {
     "data": {
      "image/png": "[encoded data removed]",
      "text/plain": [
       "<Figure size 432x288 with 1 Axes>"
      ]
     },
     "metadata": {
      "needs_background": "light"
     },
     "output_type": "display_data"
    }
   ],
   "source": [
    "plt.plot(itr,to,'r',label='training loss')\n",
    "plt.plot(itr,vo,'g',label='validation loss')\n",
    "plt.legend()"
   ]
  },
  {
   "cell_type": "code",
   "execution_count": 66,
   "id": "a00436de",
   "metadata": {},
   "outputs": [
    {
     "data": {
      "text/plain": [
       "0.7395459976105138"
      ]
     },
     "execution_count": 66,
     "metadata": {},
     "output_type": "execute_result"
    }
   ],
   "source": [
    "best"
   ]
  },
  {
   "cell_type": "markdown",
   "id": "79cca1e3",
   "metadata": {},
   "source": [
    "## nn brief lr -3 h20"
   ]
  },
  {
   "cell_type": "code",
   "execution_count": 70,
   "id": "e761459b",
   "metadata": {},
   "outputs": [
    {
     "name": "stderr",
     "output_type": "stream",
     "text": [
      "  3%|██▊                                                                                | 1/30 [00:04<02:05,  4.34s/it]"
     ]
    },
    {
     "name": "stdout",
     "output_type": "stream",
     "text": [
      "itr: 00 \t loss: 1381.25 \t acc : 0.53\n",
      "Validation accuracy:  0.5068990559186638\n"
     ]
    },
    {
     "name": "stderr",
     "output_type": "stream",
     "text": [
      "\r",
      "  7%|█████▌                                                                             | 2/30 [00:08<02:00,  4.32s/it]"
     ]
    },
    {
     "name": "stdout",
     "output_type": "stream",
     "text": [
      "Validation accuracy:  0.5700798838053741\n"
     ]
    },
    {
     "name": "stderr",
     "output_type": "stream",
     "text": [
      "\r",
      " 10%|████████▎                                                                          | 3/30 [00:12<01:56,  4.32s/it]"
     ]
    },
    {
     "name": "stdout",
     "output_type": "stream",
     "text": [
      "itr: 02 \t loss: 1218.15 \t acc : 0.65\n",
      "Validation accuracy:  0.5105301379811183\n"
     ]
    },
    {
     "name": "stderr",
     "output_type": "stream",
     "text": [
      "\r",
      " 13%|███████████                                                                        | 4/30 [00:17<01:52,  4.32s/it]"
     ]
    },
    {
     "name": "stdout",
     "output_type": "stream",
     "text": [
      "Validation accuracy:  0.6434277414669571\n"
     ]
    },
    {
     "name": "stderr",
     "output_type": "stream",
     "text": [
      "\r",
      " 17%|█████████████▊                                                                     | 5/30 [00:21<01:47,  4.30s/it]"
     ]
    },
    {
     "name": "stdout",
     "output_type": "stream",
     "text": [
      "itr: 04 \t loss: 1006.80 \t acc : 0.76\n",
      "Validation accuracy:  0.6230936819172114\n"
     ]
    },
    {
     "name": "stderr",
     "output_type": "stream",
     "text": [
      "\r",
      " 20%|████████████████▌                                                                  | 6/30 [00:25<01:42,  4.29s/it]"
     ]
    },
    {
     "name": "stdout",
     "output_type": "stream",
     "text": [
      "Validation accuracy:  0.5708061002178649\n"
     ]
    },
    {
     "name": "stderr",
     "output_type": "stream",
     "text": [
      "\r",
      " 23%|███████████████████▎                                                               | 7/30 [00:30<01:39,  4.33s/it]"
     ]
    },
    {
     "name": "stdout",
     "output_type": "stream",
     "text": [
      "itr: 06 \t loss: 786.66 \t acc : 0.85\n",
      "Validation accuracy:  0.49673202614379086\n"
     ]
    },
    {
     "name": "stderr",
     "output_type": "stream",
     "text": [
      "\r",
      " 27%|██████████████████████▏                                                            | 8/30 [00:34<01:35,  4.33s/it]"
     ]
    },
    {
     "name": "stdout",
     "output_type": "stream",
     "text": [
      "Validation accuracy:  0.6230936819172114\n"
     ]
    },
    {
     "name": "stderr",
     "output_type": "stream",
     "text": [
      "\r",
      " 30%|████████████████████████▉                                                          | 9/30 [00:38<01:30,  4.32s/it]"
     ]
    },
    {
     "name": "stdout",
     "output_type": "stream",
     "text": [
      "itr: 08 \t loss: 582.73 \t acc : 0.92\n",
      "Validation accuracy:  0.6027596223674655\n"
     ]
    },
    {
     "name": "stderr",
     "output_type": "stream",
     "text": [
      "\r",
      " 33%|███████████████████████████▎                                                      | 10/30 [00:43<01:25,  4.29s/it]"
     ]
    },
    {
     "name": "stdout",
     "output_type": "stream",
     "text": [
      "Validation accuracy:  0.5751633986928105\n"
     ]
    },
    {
     "name": "stderr",
     "output_type": "stream",
     "text": [
      "\r",
      " 37%|██████████████████████████████                                                    | 11/30 [00:47<01:21,  4.30s/it]"
     ]
    },
    {
     "name": "stdout",
     "output_type": "stream",
     "text": [
      "itr: 10 \t loss: 412.15 \t acc : 0.97\n",
      "Validation accuracy:  0.6681190994916485\n"
     ]
    },
    {
     "name": "stderr",
     "output_type": "stream",
     "text": [
      "\r",
      " 40%|████████████████████████████████▊                                                 | 12/30 [00:51<01:16,  4.28s/it]"
     ]
    },
    {
     "name": "stdout",
     "output_type": "stream",
     "text": [
      "Validation accuracy:  0.5737109658678285\n"
     ]
    },
    {
     "name": "stderr",
     "output_type": "stream",
     "text": [
      "\r",
      " 43%|███████████████████████████████████▌                                              | 13/30 [00:55<01:12,  4.28s/it]"
     ]
    },
    {
     "name": "stdout",
     "output_type": "stream",
     "text": [
      "itr: 12 \t loss: 289.92 \t acc : 0.99\n",
      "Validation accuracy:  0.5613652868554829\n"
     ]
    },
    {
     "name": "stderr",
     "output_type": "stream",
     "text": [
      "\r",
      " 47%|██████████████████████████████████████▎                                           | 14/30 [01:00<01:08,  4.28s/it]"
     ]
    },
    {
     "name": "stdout",
     "output_type": "stream",
     "text": [
      "Validation accuracy:  0.5787944807552651\n"
     ]
    },
    {
     "name": "stderr",
     "output_type": "stream",
     "text": [
      "\r",
      " 50%|█████████████████████████████████████████                                         | 15/30 [01:04<01:04,  4.29s/it]"
     ]
    },
    {
     "name": "stdout",
     "output_type": "stream",
     "text": [
      "itr: 14 \t loss: 207.93 \t acc : 1.00\n",
      "Validation accuracy:  0.5301379811183733\n"
     ]
    },
    {
     "name": "stderr",
     "output_type": "stream",
     "text": [
      "\r",
      " 53%|███████████████████████████████████████████▋                                      | 16/30 [01:08<00:59,  4.27s/it]"
     ]
    },
    {
     "name": "stdout",
     "output_type": "stream",
     "text": [
      "Validation accuracy:  0.5679012345679012\n"
     ]
    },
    {
     "name": "stderr",
     "output_type": "stream",
     "text": [
      "\r",
      " 57%|██████████████████████████████████████████████▍                                   | 17/30 [01:12<00:55,  4.27s/it]"
     ]
    },
    {
     "name": "stdout",
     "output_type": "stream",
     "text": [
      "itr: 16 \t loss: 151.60 \t acc : 1.00\n",
      "Validation accuracy:  0.5882352941176471\n"
     ]
    },
    {
     "name": "stderr",
     "output_type": "stream",
     "text": [
      "\r",
      " 60%|█████████████████████████████████████████████████▏                                | 18/30 [01:17<00:51,  4.28s/it]"
     ]
    },
    {
     "name": "stdout",
     "output_type": "stream",
     "text": [
      "Validation accuracy:  0.5802469135802468\n"
     ]
    },
    {
     "name": "stderr",
     "output_type": "stream",
     "text": [
      "\r",
      " 63%|███████████████████████████████████████████████████▉                              | 19/30 [01:21<00:47,  4.32s/it]"
     ]
    },
    {
     "name": "stdout",
     "output_type": "stream",
     "text": [
      "itr: 18 \t loss: 114.88 \t acc : 1.00\n",
      "Validation accuracy:  0.5403050108932462\n"
     ]
    },
    {
     "name": "stderr",
     "output_type": "stream",
     "text": [
      "\r",
      " 67%|██████████████████████████████████████████████████████▋                           | 20/30 [01:26<00:43,  4.35s/it]"
     ]
    },
    {
     "name": "stdout",
     "output_type": "stream",
     "text": [
      "Validation accuracy:  0.5787944807552651\n"
     ]
    },
    {
     "name": "stderr",
     "output_type": "stream",
     "text": [
      "\r",
      " 70%|█████████████████████████████████████████████████████████▍                        | 21/30 [01:30<00:39,  4.36s/it]"
     ]
    },
    {
     "name": "stdout",
     "output_type": "stream",
     "text": [
      "itr: 20 \t loss: 90.58 \t acc : 1.00\n",
      "Validation accuracy:  0.6775599128540305\n"
     ]
    },
    {
     "name": "stderr",
     "output_type": "stream",
     "text": [
      "\r",
      " 73%|████████████████████████████████████████████████████████████▏                     | 22/30 [01:34<00:34,  4.35s/it]"
     ]
    },
    {
     "name": "stdout",
     "output_type": "stream",
     "text": [
      "Validation accuracy:  0.5366739288307916\n"
     ]
    },
    {
     "name": "stderr",
     "output_type": "stream",
     "text": [
      "\r",
      " 77%|██████████████████████████████████████████████████████████████▊                   | 23/30 [01:39<00:30,  4.33s/it]"
     ]
    },
    {
     "name": "stdout",
     "output_type": "stream",
     "text": [
      "itr: 22 \t loss: 72.92 \t acc : 1.00\n",
      "Validation accuracy:  0.6223674655047204\n"
     ]
    },
    {
     "name": "stderr",
     "output_type": "stream",
     "text": [
      "\r",
      " 80%|█████████████████████████████████████████████████████████████████▌                | 24/30 [01:43<00:25,  4.30s/it]"
     ]
    },
    {
     "name": "stdout",
     "output_type": "stream",
     "text": [
      "Validation accuracy:  0.5984023238925199\n"
     ]
    },
    {
     "name": "stderr",
     "output_type": "stream",
     "text": [
      "\r",
      " 83%|████████████████████████████████████████████████████████████████████▎             | 25/30 [01:47<00:21,  4.29s/it]"
     ]
    },
    {
     "name": "stdout",
     "output_type": "stream",
     "text": [
      "itr: 24 \t loss: 59.88 \t acc : 1.00\n",
      "Validation accuracy:  0.5744371822803195\n"
     ]
    },
    {
     "name": "stderr",
     "output_type": "stream",
     "text": [
      "\r",
      " 87%|███████████████████████████████████████████████████████████████████████           | 26/30 [01:51<00:17,  4.29s/it]"
     ]
    },
    {
     "name": "stdout",
     "output_type": "stream",
     "text": [
      "Validation accuracy:  0.5744371822803195\n"
     ]
    },
    {
     "name": "stderr",
     "output_type": "stream",
     "text": [
      "\r",
      " 90%|█████████████████████████████████████████████████████████████████████████▊        | 27/30 [01:56<00:12,  4.29s/it]"
     ]
    },
    {
     "name": "stdout",
     "output_type": "stream",
     "text": [
      "itr: 26 \t loss: 50.31 \t acc : 1.00\n",
      "Validation accuracy:  0.6594045025417574\n"
     ]
    },
    {
     "name": "stderr",
     "output_type": "stream",
     "text": [
      "\r",
      " 93%|████████████████████████████████████████████████████████████████████████████▌     | 28/30 [02:00<00:08,  4.31s/it]"
     ]
    },
    {
     "name": "stdout",
     "output_type": "stream",
     "text": [
      "Validation accuracy:  0.5177923021060277\n"
     ]
    },
    {
     "name": "stderr",
     "output_type": "stream",
     "text": [
      "\r",
      " 97%|███████████████████████████████████████████████████████████████████████████████▎  | 29/30 [02:04<00:04,  4.34s/it]"
     ]
    },
    {
     "name": "stdout",
     "output_type": "stream",
     "text": [
      "itr: 28 \t loss: 43.16 \t acc : 1.00\n",
      "Validation accuracy:  0.5177923021060277\n"
     ]
    },
    {
     "name": "stderr",
     "output_type": "stream",
     "text": [
      "100%|██████████████████████████████████████████████████████████████████████████████████| 30/30 [02:09<00:00,  4.31s/it]"
     ]
    },
    {
     "name": "stdout",
     "output_type": "stream",
     "text": [
      "Validation accuracy:  0.6267247639796659\n"
     ]
    },
    {
     "name": "stderr",
     "output_type": "stream",
     "text": [
      "\n"
     ]
    }
   ],
   "source": [
    "max_iters = 30\n",
    "batch_size =10\n",
    "learning_rate = (1e-3)\n",
    "hidden_size = 20\n",
    "hidden_size2 = 64\n",
    "batches = get_random_batches(traindesc,trainy,batch_size)\n",
    "batch_num = len(batches)\n",
    "paramsf = {}\n",
    "initialize_weights(13056,hidden_size,paramsf,'layer1')\n",
    "#initialize_weights(hidden_size,hidden_size2,paramsf,'layer2')\n",
    "initialize_weights(hidden_size,2,paramsf,'output')\n",
    "\n",
    "t=[]\n",
    "v=[]\n",
    "to=[]\n",
    "vo=[]\n",
    "best=0\n",
    "for itr in tqdm(range(max_iters)):\n",
    "    total_loss = 0\n",
    "    avg_acc=0\n",
    "    total_acc = 0\n",
    "    for xb,yb in batches:\n",
    "        h1 = forward(xb,paramsf,'layer1')\n",
    "        probs = forward(h1, paramsf,'output',softmax)\n",
    "\n",
    "  \n",
    "        loss, acc = compute_loss_and_acc(yb, probs)\n",
    "        #print('hello1')\n",
    "        total_loss =total_loss+ loss\n",
    "        avg_acc=avg_acc+acc\n",
    "\n",
    "        delta1 = probs - yb\n",
    "        delta2 = backwards(delta1, paramsf, 'output', linear_deriv)\n",
    "        backwards(delta2, paramsf, 'layer1', sigmoid_deriv)\n",
    "        #print('hello')\n",
    "        paramsf['Wlayer1']-=learning_rate* paramsf['grad_Wlayer1']\n",
    "        paramsf['blayer1']-=learning_rate*paramsf['grad_blayer1']\n",
    "        paramsf['Woutput']-=learning_rate*paramsf['grad_Woutput']\n",
    "        paramsf['boutput']-=learning_rate*paramsf['grad_boutput']\n",
    " \n",
    "    total_acc =avg_acc/ batch_num\n",
    "    t.append(total_acc)\n",
    "    to.append(total_loss)\n",
    "    if itr % 2 == 0:\n",
    "        print(\"itr: {:02d} \\t loss: {:.2f} \\t acc : {:.2f}\".format(itr,total_loss,total_acc))\n",
    "    \n",
    "    bv = get_random_batches(validxdesc,validy,validy.shape[0])\n",
    "    bnv = len(bv)\n",
    "    total_lossv = 0\n",
    "    avg_accv=0\n",
    "    total_accv = 0\n",
    "    for xbv,ybv in bv:\n",
    "        h1v = forward(xbv,paramsf,'layer1')\n",
    "        probs = forward(h1v, paramsf,'output',softmax)\n",
    "        loss, acc = compute_loss_and_acc(ybv, probs)\n",
    "        total_lossv =total_lossv+ loss\n",
    "        avg_accv=avg_accv+acc\n",
    "    valid_accv =avg_accv/ bnv\n",
    "    v.append(valid_accv)\n",
    "    vo.append(total_lossv)\n",
    "\n",
    "    print('Validation accuracy: ',valid_accv)\n",
    "    if valid_accv>best:\n",
    "        best=valid_accv\n",
    "        bestd=copy.copy(paramsf)"
   ]
  },
  {
   "cell_type": "code",
   "execution_count": 71,
   "id": "67fdbc86",
   "metadata": {},
   "outputs": [],
   "source": [
    "itr=[]\n",
    "for i in range(1,31):\n",
    "    itr.append(i)"
   ]
  },
  {
   "cell_type": "code",
   "execution_count": 72,
   "id": "10e2e6a8",
   "metadata": {},
   "outputs": [],
   "source": [
    "t=np.array(t)\n",
    "v=np.array(v)\n",
    "to=np.array(to)\n",
    "vo=np.array(vo)"
   ]
  },
  {
   "cell_type": "code",
   "execution_count": 73,
   "id": "c4a089d0",
   "metadata": {},
   "outputs": [
    {
     "data": {
      "text/plain": [
       "<matplotlib.legend.Legend at 0x1a4d9453c40>"
      ]
     },
     "execution_count": 73,
     "metadata": {},
     "output_type": "execute_result"
    },
    {
     "data": {
      "image/png": "[encoded data removed]",
      "text/plain": [
       "<Figure size 432x288 with 1 Axes>"
      ]
     },
     "metadata": {
      "needs_background": "light"
     },
     "output_type": "display_data"
    }
   ],
   "source": [
    "plt.plot(itr,t,'r',label='training acc')\n",
    "plt.plot(itr,v,'g',label='validation acc')\n",
    "plt.legend()"
   ]
  },
  {
   "cell_type": "code",
   "execution_count": 74,
   "id": "4992c884",
   "metadata": {},
   "outputs": [
    {
     "data": {
      "text/plain": [
       "<matplotlib.legend.Legend at 0x1a4d8a23f10>"
      ]
     },
     "execution_count": 74,
     "metadata": {},
     "output_type": "execute_result"
    },
    {
     "data": {
      "image/png": "[encoded data removed]",
      "text/plain": [
       "<Figure size 432x288 with 1 Axes>"
      ]
     },
     "metadata": {
      "needs_background": "light"
     },
     "output_type": "display_data"
    }
   ],
   "source": [
    "plt.plot(itr,to,'r',label='training loss')\n",
    "plt.plot(itr,vo,'g',label='validation loss')\n",
    "plt.legend()"
   ]
  },
  {
   "cell_type": "code",
   "execution_count": 75,
   "id": "34f3e1d4",
   "metadata": {},
   "outputs": [
    {
     "data": {
      "text/plain": [
       "0.6775599128540305"
      ]
     },
     "execution_count": 75,
     "metadata": {},
     "output_type": "execute_result"
    }
   ],
   "source": [
    "best"
   ]
  },
  {
   "cell_type": "markdown",
   "id": "4781f784",
   "metadata": {},
   "source": [
    "## nn brief lr -4 h20"
   ]
  },
  {
   "cell_type": "code",
   "execution_count": 76,
   "id": "d5522e36",
   "metadata": {},
   "outputs": [
    {
     "name": "stderr",
     "output_type": "stream",
     "text": [
      "  3%|██▊                                                                                | 1/30 [00:04<02:07,  4.38s/it]"
     ]
    },
    {
     "name": "stdout",
     "output_type": "stream",
     "text": [
      "itr: 00 \t loss: 1376.97 \t acc : 0.54\n",
      "Validation accuracy:  0.46623093681917216\n"
     ]
    },
    {
     "name": "stderr",
     "output_type": "stream",
     "text": [
      "\r",
      "  7%|█████▌                                                                             | 2/30 [00:08<02:03,  4.42s/it]"
     ]
    },
    {
     "name": "stdout",
     "output_type": "stream",
     "text": [
      "Validation accuracy:  0.5381263616557734\n"
     ]
    },
    {
     "name": "stderr",
     "output_type": "stream",
     "text": [
      "\r",
      " 10%|████████▎                                                                          | 3/30 [00:13<01:59,  4.42s/it]"
     ]
    },
    {
     "name": "stdout",
     "output_type": "stream",
     "text": [
      "itr: 02 \t loss: 1297.44 \t acc : 0.61\n",
      "Validation accuracy:  0.5896877269426288\n"
     ]
    },
    {
     "name": "stderr",
     "output_type": "stream",
     "text": [
      "\r",
      " 13%|███████████                                                                        | 4/30 [00:17<01:54,  4.42s/it]"
     ]
    },
    {
     "name": "stdout",
     "output_type": "stream",
     "text": [
      "Validation accuracy:  0.5773420479302832\n"
     ]
    },
    {
     "name": "stderr",
     "output_type": "stream",
     "text": [
      "\r",
      " 17%|█████████████▊                                                                     | 5/30 [00:22<01:50,  4.41s/it]"
     ]
    },
    {
     "name": "stdout",
     "output_type": "stream",
     "text": [
      "itr: 04 \t loss: 1241.40 \t acc : 0.66\n",
      "Validation accuracy:  0.5519244734931009\n"
     ]
    },
    {
     "name": "stderr",
     "output_type": "stream",
     "text": [
      "\r",
      " 20%|████████████████▌                                                                  | 6/30 [00:26<01:45,  4.42s/it]"
     ]
    },
    {
     "name": "stdout",
     "output_type": "stream",
     "text": [
      "Validation accuracy:  0.625998547567175\n"
     ]
    },
    {
     "name": "stderr",
     "output_type": "stream",
     "text": [
      "\r",
      " 23%|███████████████████▎                                                               | 7/30 [00:30<01:41,  4.43s/it]"
     ]
    },
    {
     "name": "stdout",
     "output_type": "stream",
     "text": [
      "itr: 06 \t loss: 1190.01 \t acc : 0.70\n",
      "Validation accuracy:  0.5947712418300654\n"
     ]
    },
    {
     "name": "stderr",
     "output_type": "stream",
     "text": [
      "\r",
      " 27%|██████████████████████▏                                                            | 8/30 [00:35<01:37,  4.42s/it]"
     ]
    },
    {
     "name": "stdout",
     "output_type": "stream",
     "text": [
      "Validation accuracy:  0.5729847494553377\n"
     ]
    },
    {
     "name": "stderr",
     "output_type": "stream",
     "text": [
      "\r",
      " 30%|████████████████████████▉                                                          | 9/30 [00:39<01:31,  4.37s/it]"
     ]
    },
    {
     "name": "stdout",
     "output_type": "stream",
     "text": [
      "itr: 08 \t loss: 1142.53 \t acc : 0.73\n",
      "Validation accuracy:  0.5374001452432825\n"
     ]
    },
    {
     "name": "stderr",
     "output_type": "stream",
     "text": [
      "\r",
      " 33%|███████████████████████████▎                                                      | 10/30 [00:43<01:26,  4.33s/it]"
     ]
    },
    {
     "name": "stdout",
     "output_type": "stream",
     "text": [
      "Validation accuracy:  0.4887436456063907\n"
     ]
    },
    {
     "name": "stderr",
     "output_type": "stream",
     "text": [
      "\r",
      " 37%|██████████████████████████████                                                    | 11/30 [00:48<01:22,  4.33s/it]"
     ]
    },
    {
     "name": "stdout",
     "output_type": "stream",
     "text": [
      "itr: 10 \t loss: 1098.48 \t acc : 0.76\n",
      "Validation accuracy:  0.5969498910675382\n"
     ]
    },
    {
     "name": "stderr",
     "output_type": "stream",
     "text": [
      "\r",
      " 40%|████████████████████████████████▊                                                 | 12/30 [00:52<01:17,  4.30s/it]"
     ]
    },
    {
     "name": "stdout",
     "output_type": "stream",
     "text": [
      "Validation accuracy:  0.5962236746550472\n"
     ]
    },
    {
     "name": "stderr",
     "output_type": "stream",
     "text": [
      "\r",
      " 43%|███████████████████████████████████▌                                              | 13/30 [00:56<01:12,  4.29s/it]"
     ]
    },
    {
     "name": "stdout",
     "output_type": "stream",
     "text": [
      "itr: 12 \t loss: 1057.17 \t acc : 0.78\n",
      "Validation accuracy:  0.6209150326797386\n"
     ]
    },
    {
     "name": "stderr",
     "output_type": "stream",
     "text": [
      "\r",
      " 47%|██████████████████████████████████████▎                                           | 14/30 [01:00<01:08,  4.29s/it]"
     ]
    },
    {
     "name": "stdout",
     "output_type": "stream",
     "text": [
      "Validation accuracy:  0.4800290486564996\n"
     ]
    },
    {
     "name": "stderr",
     "output_type": "stream",
     "text": [
      "\r",
      " 50%|█████████████████████████████████████████                                         | 15/30 [01:05<01:04,  4.27s/it]"
     ]
    },
    {
     "name": "stdout",
     "output_type": "stream",
     "text": [
      "itr: 14 \t loss: 1017.98 \t acc : 0.80\n",
      "Validation accuracy:  0.5548293391430646\n"
     ]
    },
    {
     "name": "stderr",
     "output_type": "stream",
     "text": [
      "\r",
      " 53%|███████████████████████████████████████████▋                                      | 16/30 [01:09<00:59,  4.27s/it]"
     ]
    },
    {
     "name": "stdout",
     "output_type": "stream",
     "text": [
      "Validation accuracy:  0.635439360929557\n"
     ]
    },
    {
     "name": "stderr",
     "output_type": "stream",
     "text": [
      "\r",
      " 57%|██████████████████████████████████████████████▍                                   | 17/30 [01:13<00:55,  4.26s/it]"
     ]
    },
    {
     "name": "stdout",
     "output_type": "stream",
     "text": [
      "itr: 16 \t loss: 980.44 \t acc : 0.81\n",
      "Validation accuracy:  0.6216412490922295\n"
     ]
    },
    {
     "name": "stderr",
     "output_type": "stream",
     "text": [
      "\r",
      " 60%|█████████████████████████████████████████████████▏                                | 18/30 [01:18<00:51,  4.29s/it]"
     ]
    },
    {
     "name": "stdout",
     "output_type": "stream",
     "text": [
      "Validation accuracy:  0.618010167029775\n"
     ]
    },
    {
     "name": "stderr",
     "output_type": "stream",
     "text": [
      "\r",
      " 63%|███████████████████████████████████████████████████▉                              | 19/30 [01:22<00:47,  4.29s/it]"
     ]
    },
    {
     "name": "stdout",
     "output_type": "stream",
     "text": [
      "itr: 18 \t loss: 944.21 \t acc : 0.83\n",
      "Validation accuracy:  0.6434277414669571\n"
     ]
    },
    {
     "name": "stderr",
     "output_type": "stream",
     "text": [
      "\r",
      " 67%|██████████████████████████████████████████████████████▋                           | 20/30 [01:26<00:42,  4.27s/it]"
     ]
    },
    {
     "name": "stdout",
     "output_type": "stream",
     "text": [
      "Validation accuracy:  0.5265068990559186\n"
     ]
    },
    {
     "name": "stderr",
     "output_type": "stream",
     "text": [
      "\r",
      " 70%|█████████████████████████████████████████████████████████▍                        | 21/30 [01:30<00:38,  4.27s/it]"
     ]
    },
    {
     "name": "stdout",
     "output_type": "stream",
     "text": [
      "itr: 20 \t loss: 909.01 \t acc : 0.85\n",
      "Validation accuracy:  0.5744371822803196\n"
     ]
    },
    {
     "name": "stderr",
     "output_type": "stream",
     "text": [
      "\r",
      " 73%|████████████████████████████████████████████████████████████▏                     | 22/30 [01:35<00:34,  4.27s/it]"
     ]
    },
    {
     "name": "stdout",
     "output_type": "stream",
     "text": [
      "Validation accuracy:  0.5170660856935366\n"
     ]
    },
    {
     "name": "stderr",
     "output_type": "stream",
     "text": [
      "\r",
      " 77%|██████████████████████████████████████████████████████████████▊                   | 23/30 [01:39<00:30,  4.29s/it]"
     ]
    },
    {
     "name": "stdout",
     "output_type": "stream",
     "text": [
      "itr: 22 \t loss: 874.62 \t acc : 0.86\n",
      "Validation accuracy:  0.6201888162672476\n"
     ]
    },
    {
     "name": "stderr",
     "output_type": "stream",
     "text": [
      "\r",
      " 80%|█████████████████████████████████████████████████████████████████▌                | 24/30 [01:44<00:26,  4.43s/it]"
     ]
    },
    {
     "name": "stdout",
     "output_type": "stream",
     "text": [
      "Validation accuracy:  0.5446623093681917\n"
     ]
    },
    {
     "name": "stderr",
     "output_type": "stream",
     "text": [
      "\r",
      " 83%|████████████████████████████████████████████████████████████████████▎             | 25/30 [01:48<00:22,  4.46s/it]"
     ]
    },
    {
     "name": "stdout",
     "output_type": "stream",
     "text": [
      "itr: 24 \t loss: 841.00 \t acc : 0.87\n",
      "Validation accuracy:  0.6122004357298475\n"
     ]
    },
    {
     "name": "stderr",
     "output_type": "stream",
     "text": [
      "\r",
      " 87%|███████████████████████████████████████████████████████████████████████           | 26/30 [01:53<00:18,  4.51s/it]"
     ]
    },
    {
     "name": "stdout",
     "output_type": "stream",
     "text": [
      "Validation accuracy:  0.5940450254175743\n"
     ]
    },
    {
     "name": "stderr",
     "output_type": "stream",
     "text": [
      "\r",
      " 90%|█████████████████████████████████████████████████████████████████████████▊        | 27/30 [01:57<00:13,  4.54s/it]"
     ]
    },
    {
     "name": "stdout",
     "output_type": "stream",
     "text": [
      "itr: 26 \t loss: 808.22 \t acc : 0.88\n",
      "Validation accuracy:  0.6296296296296297\n"
     ]
    },
    {
     "name": "stderr",
     "output_type": "stream",
     "text": [
      "\r",
      " 93%|████████████████████████████████████████████████████████████████████████████▌     | 28/30 [02:02<00:09,  4.63s/it]"
     ]
    },
    {
     "name": "stdout",
     "output_type": "stream",
     "text": [
      "Validation accuracy:  0.6579520697167756\n"
     ]
    },
    {
     "name": "stderr",
     "output_type": "stream",
     "text": [
      "\r",
      " 97%|███████████████████████████████████████████████████████████████████████████████▎  | 29/30 [02:07<00:04,  4.57s/it]"
     ]
    },
    {
     "name": "stdout",
     "output_type": "stream",
     "text": [
      "itr: 28 \t loss: 776.33 \t acc : 0.89\n",
      "Validation accuracy:  0.5657225853304285\n"
     ]
    },
    {
     "name": "stderr",
     "output_type": "stream",
     "text": [
      "100%|██████████████████████████████████████████████████████████████████████████████████| 30/30 [02:11<00:00,  4.39s/it]"
     ]
    },
    {
     "name": "stdout",
     "output_type": "stream",
     "text": [
      "Validation accuracy:  0.5374001452432825\n"
     ]
    },
    {
     "name": "stderr",
     "output_type": "stream",
     "text": [
      "\n"
     ]
    }
   ],
   "source": [
    "max_iters = 30\n",
    "batch_size =10\n",
    "learning_rate = (1e-4)\n",
    "hidden_size = 20\n",
    "hidden_size2 = 64\n",
    "batches = get_random_batches(traindesc,trainy,batch_size)\n",
    "batch_num = len(batches)\n",
    "paramsf = {}\n",
    "initialize_weights(13056,hidden_size,paramsf,'layer1')\n",
    "#initialize_weights(hidden_size,hidden_size2,paramsf,'layer2')\n",
    "initialize_weights(hidden_size,2,paramsf,'output')\n",
    "\n",
    "t=[]\n",
    "v=[]\n",
    "to=[]\n",
    "vo=[]\n",
    "best=0\n",
    "for itr in tqdm(range(max_iters)):\n",
    "    total_loss = 0\n",
    "    avg_acc=0\n",
    "    total_acc = 0\n",
    "    for xb,yb in batches:\n",
    "        h1 = forward(xb,paramsf,'layer1')\n",
    "        probs = forward(h1, paramsf,'output',softmax)\n",
    "\n",
    "  \n",
    "        loss, acc = compute_loss_and_acc(yb, probs)\n",
    "        #print('hello1')\n",
    "        total_loss =total_loss+ loss\n",
    "        avg_acc=avg_acc+acc\n",
    "\n",
    "        delta1 = probs - yb\n",
    "        delta2 = backwards(delta1, paramsf, 'output', linear_deriv)\n",
    "        backwards(delta2, paramsf, 'layer1', sigmoid_deriv)\n",
    "        #print('hello')\n",
    "        paramsf['Wlayer1']-=learning_rate* paramsf['grad_Wlayer1']\n",
    "        paramsf['blayer1']-=learning_rate*paramsf['grad_blayer1']\n",
    "        paramsf['Woutput']-=learning_rate*paramsf['grad_Woutput']\n",
    "        paramsf['boutput']-=learning_rate*paramsf['grad_boutput']\n",
    " \n",
    "    total_acc =avg_acc/ batch_num\n",
    "    t.append(total_acc)\n",
    "    to.append(total_loss)\n",
    "    if itr % 2 == 0:\n",
    "        print(\"itr: {:02d} \\t loss: {:.2f} \\t acc : {:.2f}\".format(itr,total_loss,total_acc))\n",
    "    \n",
    "    bv = get_random_batches(validxdesc,validy,validy.shape[0])\n",
    "    bnv = len(bv)\n",
    "    total_lossv = 0\n",
    "    avg_accv=0\n",
    "    total_accv = 0\n",
    "    for xbv,ybv in bv:\n",
    "        h1v = forward(xbv,paramsf,'layer1')\n",
    "        probs = forward(h1v, paramsf,'output',softmax)\n",
    "        loss, acc = compute_loss_and_acc(ybv, probs)\n",
    "        total_lossv =total_lossv+ loss\n",
    "        avg_accv=avg_accv+acc\n",
    "    valid_accv =avg_accv/ bnv\n",
    "    v.append(valid_accv)\n",
    "    vo.append(total_lossv)\n",
    "\n",
    "    print('Validation accuracy: ',valid_accv)\n",
    "    if valid_accv>best:\n",
    "        best=valid_accv\n",
    "        bestd=copy.copy(paramsf)"
   ]
  },
  {
   "cell_type": "code",
   "execution_count": 77,
   "id": "ec94a551",
   "metadata": {},
   "outputs": [],
   "source": [
    "itr=[]\n",
    "for i in range(1,31):\n",
    "    itr.append(i)"
   ]
  },
  {
   "cell_type": "code",
   "execution_count": 78,
   "id": "5640f23b",
   "metadata": {},
   "outputs": [],
   "source": [
    "t=np.array(t)\n",
    "v=np.array(v)\n",
    "to=np.array(to)\n",
    "vo=np.array(vo)"
   ]
  },
  {
   "cell_type": "code",
   "execution_count": 79,
   "id": "dd2b82d3",
   "metadata": {},
   "outputs": [
    {
     "data": {
      "text/plain": [
       "<matplotlib.legend.Legend at 0x1a4d8a91060>"
      ]
     },
     "execution_count": 79,
     "metadata": {},
     "output_type": "execute_result"
    },
    {
     "data": {
      "image/png": "[encoded data removed]",
      "text/plain": [
       "<Figure size 432x288 with 1 Axes>"
      ]
     },
     "metadata": {
      "needs_background": "light"
     },
     "output_type": "display_data"
    }
   ],
   "source": [
    "plt.plot(itr,t,'r',label='training acc')\n",
    "plt.plot(itr,v,'g',label='validation acc')\n",
    "plt.legend()"
   ]
  },
  {
   "cell_type": "code",
   "execution_count": 80,
   "id": "89b768a4",
   "metadata": {},
   "outputs": [
    {
     "data": {
      "text/plain": [
       "<matplotlib.legend.Legend at 0x1a4d8d17f40>"
      ]
     },
     "execution_count": 80,
     "metadata": {},
     "output_type": "execute_result"
    },
    {
     "data": {
      "image/png": "[encoded data removed]",
      "text/plain": [
       "<Figure size 432x288 with 1 Axes>"
      ]
     },
     "metadata": {
      "needs_background": "light"
     },
     "output_type": "display_data"
    }
   ],
   "source": [
    "plt.plot(itr,to,'r',label='training loss')\n",
    "plt.plot(itr,vo,'g',label='validation loss')\n",
    "plt.legend()"
   ]
  },
  {
   "cell_type": "code",
   "execution_count": 81,
   "id": "5a09a077",
   "metadata": {},
   "outputs": [
    {
     "data": {
      "text/plain": [
       "0.6579520697167756"
      ]
     },
     "execution_count": 81,
     "metadata": {},
     "output_type": "execute_result"
    }
   ],
   "source": [
    "best"
   ]
  },
  {
   "cell_type": "markdown",
   "id": "5184e336",
   "metadata": {},
   "source": [
    "## nn brief lr -3 h10"
   ]
  },
  {
   "cell_type": "code",
   "execution_count": 82,
   "id": "64b6718b",
   "metadata": {},
   "outputs": [
    {
     "name": "stderr",
     "output_type": "stream",
     "text": [
      "  3%|██▊                                                                                | 1/30 [00:02<01:17,  2.67s/it]"
     ]
    },
    {
     "name": "stdout",
     "output_type": "stream",
     "text": [
      "itr: 00 \t loss: 1363.02 \t acc : 0.54\n",
      "Validation accuracy:  0.6078431372549019\n"
     ]
    },
    {
     "name": "stderr",
     "output_type": "stream",
     "text": [
      "\r",
      "  7%|█████▌                                                                             | 2/30 [00:05<01:12,  2.60s/it]"
     ]
    },
    {
     "name": "stdout",
     "output_type": "stream",
     "text": [
      "Validation accuracy:  0.5344952795933189\n"
     ]
    },
    {
     "name": "stderr",
     "output_type": "stream",
     "text": [
      "\r",
      " 10%|████████▎                                                                          | 3/30 [00:07<01:09,  2.56s/it]"
     ]
    },
    {
     "name": "stdout",
     "output_type": "stream",
     "text": [
      "itr: 02 \t loss: 1262.16 \t acc : 0.66\n",
      "Validation accuracy:  0.5846042120551925\n"
     ]
    },
    {
     "name": "stderr",
     "output_type": "stream",
     "text": [
      "\r",
      " 13%|███████████                                                                        | 4/30 [00:10<01:05,  2.53s/it]"
     ]
    },
    {
     "name": "stdout",
     "output_type": "stream",
     "text": [
      "Validation accuracy:  0.6470588235294118\n"
     ]
    },
    {
     "name": "stderr",
     "output_type": "stream",
     "text": [
      "\r",
      " 17%|█████████████▊                                                                     | 5/30 [00:12<01:03,  2.53s/it]"
     ]
    },
    {
     "name": "stdout",
     "output_type": "stream",
     "text": [
      "itr: 04 \t loss: 1125.01 \t acc : 0.75\n",
      "Validation accuracy:  0.47204066811909945\n"
     ]
    },
    {
     "name": "stderr",
     "output_type": "stream",
     "text": [
      "\r",
      " 20%|████████████████▌                                                                  | 6/30 [00:15<01:00,  2.53s/it]"
     ]
    },
    {
     "name": "stdout",
     "output_type": "stream",
     "text": [
      "Validation accuracy:  0.588961510530138\n"
     ]
    },
    {
     "name": "stderr",
     "output_type": "stream",
     "text": [
      "\r",
      " 23%|███████████████████▎                                                               | 7/30 [00:17<00:58,  2.53s/it]"
     ]
    },
    {
     "name": "stdout",
     "output_type": "stream",
     "text": [
      "itr: 06 \t loss: 957.54 \t acc : 0.80\n",
      "Validation accuracy:  0.49164851125635445\n"
     ]
    },
    {
     "name": "stderr",
     "output_type": "stream",
     "text": [
      "\r",
      " 27%|██████████████████████▏                                                            | 8/30 [00:20<00:55,  2.54s/it]"
     ]
    },
    {
     "name": "stdout",
     "output_type": "stream",
     "text": [
      "Validation accuracy:  0.5446623093681917\n"
     ]
    },
    {
     "name": "stderr",
     "output_type": "stream",
     "text": [
      "\r",
      " 30%|████████████████████████▉                                                          | 9/30 [00:22<00:53,  2.54s/it]"
     ]
    },
    {
     "name": "stdout",
     "output_type": "stream",
     "text": [
      "itr: 08 \t loss: 779.24 \t acc : 0.86\n",
      "Validation accuracy:  0.48148148148148157\n"
     ]
    },
    {
     "name": "stderr",
     "output_type": "stream",
     "text": [
      "\r",
      " 33%|███████████████████████████▎                                                      | 10/30 [00:25<00:50,  2.53s/it]"
     ]
    },
    {
     "name": "stdout",
     "output_type": "stream",
     "text": [
      "Validation accuracy:  0.6470588235294118\n"
     ]
    },
    {
     "name": "stderr",
     "output_type": "stream",
     "text": [
      "\r",
      " 37%|██████████████████████████████                                                    | 11/30 [00:27<00:48,  2.53s/it]"
     ]
    },
    {
     "name": "stdout",
     "output_type": "stream",
     "text": [
      "itr: 10 \t loss: 590.99 \t acc : 0.92\n",
      "Validation accuracy:  0.45315904139433555\n"
     ]
    },
    {
     "name": "stderr",
     "output_type": "stream",
     "text": [
      "\r",
      " 40%|████████████████████████████████▊                                                 | 12/30 [00:30<00:45,  2.53s/it]"
     ]
    },
    {
     "name": "stdout",
     "output_type": "stream",
     "text": [
      "Validation accuracy:  0.5773420479302832\n"
     ]
    },
    {
     "name": "stderr",
     "output_type": "stream",
     "text": [
      "\r",
      " 43%|███████████████████████████████████▌                                              | 13/30 [00:33<00:43,  2.54s/it]"
     ]
    },
    {
     "name": "stdout",
     "output_type": "stream",
     "text": [
      "itr: 12 \t loss: 424.98 \t acc : 0.96\n",
      "Validation accuracy:  0.5453885257806826\n"
     ]
    },
    {
     "name": "stderr",
     "output_type": "stream",
     "text": [
      "\r",
      " 47%|██████████████████████████████████████▎                                           | 14/30 [00:35<00:40,  2.53s/it]"
     ]
    },
    {
     "name": "stdout",
     "output_type": "stream",
     "text": [
      "Validation accuracy:  0.6114742193173566\n"
     ]
    },
    {
     "name": "stderr",
     "output_type": "stream",
     "text": [
      "\r",
      " 50%|█████████████████████████████████████████                                         | 15/30 [00:38<00:37,  2.52s/it]"
     ]
    },
    {
     "name": "stdout",
     "output_type": "stream",
     "text": [
      "itr: 14 \t loss: 297.39 \t acc : 0.98\n",
      "Validation accuracy:  0.5286855482933913\n"
     ]
    },
    {
     "name": "stderr",
     "output_type": "stream",
     "text": [
      "\r",
      " 53%|███████████████████████████████████████████▋                                      | 16/30 [00:40<00:35,  2.50s/it]"
     ]
    },
    {
     "name": "stdout",
     "output_type": "stream",
     "text": [
      "Validation accuracy:  0.48801742919389973\n"
     ]
    },
    {
     "name": "stderr",
     "output_type": "stream",
     "text": [
      "\r",
      " 57%|██████████████████████████████████████████████▍                                   | 17/30 [00:42<00:32,  2.51s/it]"
     ]
    },
    {
     "name": "stdout",
     "output_type": "stream",
     "text": [
      "itr: 16 \t loss: 215.70 \t acc : 0.99\n",
      "Validation accuracy:  0.5250544662309369\n"
     ]
    },
    {
     "name": "stderr",
     "output_type": "stream",
     "text": [
      "\r",
      " 60%|█████████████████████████████████████████████████▏                                | 18/30 [00:45<00:30,  2.51s/it]"
     ]
    },
    {
     "name": "stdout",
     "output_type": "stream",
     "text": [
      "Validation accuracy:  0.5548293391430646\n"
     ]
    },
    {
     "name": "stderr",
     "output_type": "stream",
     "text": [
      "\r",
      " 63%|███████████████████████████████████████████████████▉                              | 19/30 [00:48<00:27,  2.51s/it]"
     ]
    },
    {
     "name": "stdout",
     "output_type": "stream",
     "text": [
      "itr: 18 \t loss: 156.16 \t acc : 1.00\n",
      "Validation accuracy:  0.5533769063180828\n"
     ]
    },
    {
     "name": "stderr",
     "output_type": "stream",
     "text": [
      "\r",
      " 67%|██████████████████████████████████████████████████████▋                           | 20/30 [00:50<00:25,  2.51s/it]"
     ]
    },
    {
     "name": "stdout",
     "output_type": "stream",
     "text": [
      "Validation accuracy:  0.5867828612926652\n"
     ]
    },
    {
     "name": "stderr",
     "output_type": "stream",
     "text": [
      "\r",
      " 70%|█████████████████████████████████████████████████████████▍                        | 21/30 [00:53<00:22,  2.53s/it]"
     ]
    },
    {
     "name": "stdout",
     "output_type": "stream",
     "text": [
      "itr: 20 \t loss: 115.04 \t acc : 1.00\n",
      "Validation accuracy:  0.5228758169934641\n"
     ]
    },
    {
     "name": "stderr",
     "output_type": "stream",
     "text": [
      "\r",
      " 73%|████████████████████████████████████████████████████████████▏                     | 22/30 [00:55<00:20,  2.53s/it]"
     ]
    },
    {
     "name": "stdout",
     "output_type": "stream",
     "text": [
      "Validation accuracy:  0.6129266521423383\n"
     ]
    },
    {
     "name": "stderr",
     "output_type": "stream",
     "text": [
      "\r",
      " 77%|██████████████████████████████████████████████████████████████▊                   | 23/30 [00:58<00:17,  2.53s/it]"
     ]
    },
    {
     "name": "stdout",
     "output_type": "stream",
     "text": [
      "itr: 22 \t loss: 90.27 \t acc : 1.00\n",
      "Validation accuracy:  0.522875816993464\n"
     ]
    },
    {
     "name": "stderr",
     "output_type": "stream",
     "text": [
      "\r",
      " 80%|█████████████████████████████████████████████████████████████████▌                | 24/30 [01:00<00:15,  2.53s/it]"
     ]
    },
    {
     "name": "stdout",
     "output_type": "stream",
     "text": [
      "Validation accuracy:  0.5359477124183006\n"
     ]
    },
    {
     "name": "stderr",
     "output_type": "stream",
     "text": [
      "\r",
      " 83%|████████████████████████████████████████████████████████████████████▎             | 25/30 [01:03<00:12,  2.52s/it]"
     ]
    },
    {
     "name": "stdout",
     "output_type": "stream",
     "text": [
      "itr: 24 \t loss: 73.25 \t acc : 1.00\n",
      "Validation accuracy:  0.45606390704429917\n"
     ]
    },
    {
     "name": "stderr",
     "output_type": "stream",
     "text": [
      "\r",
      " 87%|███████████████████████████████████████████████████████████████████████           | 26/30 [01:05<00:10,  2.51s/it]"
     ]
    },
    {
     "name": "stdout",
     "output_type": "stream",
     "text": [
      "Validation accuracy:  0.46042120551924476\n"
     ]
    },
    {
     "name": "stderr",
     "output_type": "stream",
     "text": [
      "\r",
      " 90%|█████████████████████████████████████████████████████████████████████████▊        | 27/30 [01:08<00:07,  2.51s/it]"
     ]
    },
    {
     "name": "stdout",
     "output_type": "stream",
     "text": [
      "itr: 26 \t loss: 60.98 \t acc : 1.00\n",
      "Validation accuracy:  0.5541031227305737\n"
     ]
    },
    {
     "name": "stderr",
     "output_type": "stream",
     "text": [
      "\r",
      " 93%|████████████████████████████████████████████████████████████████████████████▌     | 28/30 [01:10<00:05,  2.51s/it]"
     ]
    },
    {
     "name": "stdout",
     "output_type": "stream",
     "text": [
      "Validation accuracy:  0.5003631082062455\n"
     ]
    },
    {
     "name": "stderr",
     "output_type": "stream",
     "text": [
      "\r",
      " 97%|███████████████████████████████████████████████████████████████████████████████▎  | 29/30 [01:13<00:02,  2.51s/it]"
     ]
    },
    {
     "name": "stdout",
     "output_type": "stream",
     "text": [
      "itr: 28 \t loss: 51.90 \t acc : 1.00\n",
      "Validation accuracy:  0.5395787944807552\n"
     ]
    },
    {
     "name": "stderr",
     "output_type": "stream",
     "text": [
      "100%|██████████████████████████████████████████████████████████████████████████████████| 30/30 [01:15<00:00,  2.53s/it]"
     ]
    },
    {
     "name": "stdout",
     "output_type": "stream",
     "text": [
      "Validation accuracy:  0.5846042120551925\n"
     ]
    },
    {
     "name": "stderr",
     "output_type": "stream",
     "text": [
      "\n"
     ]
    }
   ],
   "source": [
    "max_iters = 30\n",
    "batch_size =10\n",
    "learning_rate = (1e-3)\n",
    "hidden_size = 10\n",
    "hidden_size2 = 64\n",
    "batches = get_random_batches(traindesc,trainy,batch_size)\n",
    "batch_num = len(batches)\n",
    "paramsf = {}\n",
    "initialize_weights(13056,hidden_size,paramsf,'layer1')\n",
    "#initialize_weights(hidden_size,hidden_size2,paramsf,'layer2')\n",
    "initialize_weights(hidden_size,2,paramsf,'output')\n",
    "\n",
    "t=[]\n",
    "v=[]\n",
    "to=[]\n",
    "vo=[]\n",
    "best=0\n",
    "for itr in tqdm(range(max_iters)):\n",
    "    total_loss = 0\n",
    "    avg_acc=0\n",
    "    total_acc = 0\n",
    "    for xb,yb in batches:\n",
    "        h1 = forward(xb,paramsf,'layer1')\n",
    "        probs = forward(h1, paramsf,'output',softmax)\n",
    "\n",
    "  \n",
    "        loss, acc = compute_loss_and_acc(yb, probs)\n",
    "        #print('hello1')\n",
    "        total_loss =total_loss+ loss\n",
    "        avg_acc=avg_acc+acc\n",
    "\n",
    "        delta1 = probs - yb\n",
    "        delta2 = backwards(delta1, paramsf, 'output', linear_deriv)\n",
    "        backwards(delta2, paramsf, 'layer1', sigmoid_deriv)\n",
    "        #print('hello')\n",
    "        paramsf['Wlayer1']-=learning_rate* paramsf['grad_Wlayer1']\n",
    "        paramsf['blayer1']-=learning_rate*paramsf['grad_blayer1']\n",
    "        paramsf['Woutput']-=learning_rate*paramsf['grad_Woutput']\n",
    "        paramsf['boutput']-=learning_rate*paramsf['grad_boutput']\n",
    " \n",
    "    total_acc =avg_acc/ batch_num\n",
    "    t.append(total_acc)\n",
    "    to.append(total_loss)\n",
    "    if itr % 2 == 0:\n",
    "        print(\"itr: {:02d} \\t loss: {:.2f} \\t acc : {:.2f}\".format(itr,total_loss,total_acc))\n",
    "    \n",
    "    bv = get_random_batches(validxdesc,validy,validy.shape[0])\n",
    "    bnv = len(bv)\n",
    "    total_lossv = 0\n",
    "    avg_accv=0\n",
    "    total_accv = 0\n",
    "    for xbv,ybv in bv:\n",
    "        h1v = forward(xbv,paramsf,'layer1')\n",
    "        probs = forward(h1v, paramsf,'output',softmax)\n",
    "        loss, acc = compute_loss_and_acc(ybv, probs)\n",
    "        total_lossv =total_lossv+ loss\n",
    "        avg_accv=avg_accv+acc\n",
    "    valid_accv =avg_accv/ bnv\n",
    "    v.append(valid_accv)\n",
    "    vo.append(total_lossv)\n",
    "\n",
    "    print('Validation accuracy: ',valid_accv)\n",
    "    if valid_accv>best:\n",
    "        best=valid_accv\n",
    "        bestd=copy.copy(paramsf)"
   ]
  },
  {
   "cell_type": "code",
   "execution_count": 83,
   "id": "52936595",
   "metadata": {},
   "outputs": [],
   "source": [
    "itr=[]\n",
    "for i in range(1,31):\n",
    "    itr.append(i)"
   ]
  },
  {
   "cell_type": "code",
   "execution_count": 84,
   "id": "47c60eee",
   "metadata": {},
   "outputs": [],
   "source": [
    "t=np.array(t)\n",
    "v=np.array(v)\n",
    "to=np.array(to)\n",
    "vo=np.array(vo)"
   ]
  },
  {
   "cell_type": "code",
   "execution_count": 85,
   "id": "52b22026",
   "metadata": {},
   "outputs": [
    {
     "data": {
      "text/plain": [
       "<matplotlib.legend.Legend at 0x1a4d8d571c0>"
      ]
     },
     "execution_count": 85,
     "metadata": {},
     "output_type": "execute_result"
    },
    {
     "data": {
      "image/png": "[encoded data removed]",
      "text/plain": [
       "<Figure size 432x288 with 1 Axes>"
      ]
     },
     "metadata": {
      "needs_background": "light"
     },
     "output_type": "display_data"
    }
   ],
   "source": [
    "plt.plot(itr,t,'r',label='training acc')\n",
    "plt.plot(itr,v,'g',label='validation acc')\n",
    "plt.legend()"
   ]
  },
  {
   "cell_type": "code",
   "execution_count": 86,
   "id": "5b7699b0",
   "metadata": {},
   "outputs": [
    {
     "data": {
      "text/plain": [
       "<matplotlib.legend.Legend at 0x1a4d8dd62c0>"
      ]
     },
     "execution_count": 86,
     "metadata": {},
     "output_type": "execute_result"
    },
    {
     "data": {
      "image/png": "[encoded data removed]",
      "text/plain": [
       "<Figure size 432x288 with 1 Axes>"
      ]
     },
     "metadata": {
      "needs_background": "light"
     },
     "output_type": "display_data"
    }
   ],
   "source": [
    "plt.plot(itr,to,'r',label='training loss')\n",
    "plt.plot(itr,vo,'g',label='validation loss')\n",
    "plt.legend()"
   ]
  },
  {
   "cell_type": "code",
   "execution_count": 87,
   "id": "eff81c40",
   "metadata": {},
   "outputs": [
    {
     "data": {
      "text/plain": [
       "0.6470588235294118"
      ]
     },
     "execution_count": 87,
     "metadata": {},
     "output_type": "execute_result"
    }
   ],
   "source": [
    "best"
   ]
  },
  {
   "cell_type": "markdown",
   "id": "39e43e4f",
   "metadata": {},
   "source": [
    "## nn brief lr -4 h10"
   ]
  },
  {
   "cell_type": "code",
   "execution_count": 88,
   "id": "14afbede",
   "metadata": {},
   "outputs": [
    {
     "name": "stderr",
     "output_type": "stream",
     "text": [
      "  3%|██▊                                                                                | 1/30 [00:02<01:16,  2.63s/it]"
     ]
    },
    {
     "name": "stdout",
     "output_type": "stream",
     "text": [
      "itr: 00 \t loss: 1383.79 \t acc : 0.51\n",
      "Validation accuracy:  0.531590413943355\n"
     ]
    },
    {
     "name": "stderr",
     "output_type": "stream",
     "text": [
      "\r",
      "  7%|█████▌                                                                             | 2/30 [00:05<01:11,  2.57s/it]"
     ]
    },
    {
     "name": "stdout",
     "output_type": "stream",
     "text": [
      "Validation accuracy:  0.5381263616557734\n"
     ]
    },
    {
     "name": "stderr",
     "output_type": "stream",
     "text": [
      "\r",
      " 10%|████████▎                                                                          | 3/30 [00:07<01:09,  2.57s/it]"
     ]
    },
    {
     "name": "stdout",
     "output_type": "stream",
     "text": [
      "itr: 02 \t loss: 1324.89 \t acc : 0.58\n",
      "Validation accuracy:  0.6761074800290486\n"
     ]
    },
    {
     "name": "stderr",
     "output_type": "stream",
     "text": [
      "\r",
      " 13%|███████████                                                                        | 4/30 [00:10<01:06,  2.55s/it]"
     ]
    },
    {
     "name": "stdout",
     "output_type": "stream",
     "text": [
      "Validation accuracy:  0.5374001452432825\n"
     ]
    },
    {
     "name": "stderr",
     "output_type": "stream",
     "text": [
      "\r",
      " 17%|█████████████▊                                                                     | 5/30 [00:12<01:03,  2.53s/it]"
     ]
    },
    {
     "name": "stdout",
     "output_type": "stream",
     "text": [
      "itr: 04 \t loss: 1284.55 \t acc : 0.63\n",
      "Validation accuracy:  0.5882352941176471\n"
     ]
    },
    {
     "name": "stderr",
     "output_type": "stream",
     "text": [
      "\r",
      " 20%|████████████████▌                                                                  | 6/30 [00:15<01:00,  2.52s/it]"
     ]
    },
    {
     "name": "stdout",
     "output_type": "stream",
     "text": [
      "Validation accuracy:  0.6245461147421931\n"
     ]
    },
    {
     "name": "stderr",
     "output_type": "stream",
     "text": [
      "\r",
      " 23%|███████████████████▎                                                               | 7/30 [00:17<00:57,  2.51s/it]"
     ]
    },
    {
     "name": "stdout",
     "output_type": "stream",
     "text": [
      "itr: 06 \t loss: 1247.31 \t acc : 0.67\n",
      "Validation accuracy:  0.6332607116920842\n"
     ]
    },
    {
     "name": "stderr",
     "output_type": "stream",
     "text": [
      "\r",
      " 27%|██████████████████████▏                                                            | 8/30 [00:20<00:54,  2.49s/it]"
     ]
    },
    {
     "name": "stdout",
     "output_type": "stream",
     "text": [
      "Validation accuracy:  0.5403050108932462\n"
     ]
    },
    {
     "name": "stderr",
     "output_type": "stream",
     "text": [
      "\r",
      " 30%|████████████████████████▉                                                          | 9/30 [00:22<00:52,  2.51s/it]"
     ]
    },
    {
     "name": "stdout",
     "output_type": "stream",
     "text": [
      "itr: 08 \t loss: 1211.43 \t acc : 0.69\n",
      "Validation accuracy:  0.6870007262164125\n"
     ]
    },
    {
     "name": "stderr",
     "output_type": "stream",
     "text": [
      "\r",
      " 33%|███████████████████████████▎                                                      | 10/30 [00:25<00:50,  2.51s/it]"
     ]
    },
    {
     "name": "stdout",
     "output_type": "stream",
     "text": [
      "Validation accuracy:  0.5446623093681917\n"
     ]
    },
    {
     "name": "stderr",
     "output_type": "stream",
     "text": [
      "\r",
      " 37%|██████████████████████████████                                                    | 11/30 [00:27<00:47,  2.50s/it]"
     ]
    },
    {
     "name": "stdout",
     "output_type": "stream",
     "text": [
      "itr: 10 \t loss: 1175.01 \t acc : 0.72\n",
      "Validation accuracy:  0.6223674655047203\n"
     ]
    },
    {
     "name": "stderr",
     "output_type": "stream",
     "text": [
      "\r",
      " 40%|████████████████████████████████▊                                                 | 12/30 [00:30<00:45,  2.51s/it]"
     ]
    },
    {
     "name": "stdout",
     "output_type": "stream",
     "text": [
      "Validation accuracy:  0.5976761074800291\n"
     ]
    },
    {
     "name": "stderr",
     "output_type": "stream",
     "text": [
      "\r",
      " 43%|███████████████████████████████████▌                                              | 13/30 [00:32<00:42,  2.51s/it]"
     ]
    },
    {
     "name": "stdout",
     "output_type": "stream",
     "text": [
      "itr: 12 \t loss: 1137.59 \t acc : 0.74\n",
      "Validation accuracy:  0.6572258533042846\n"
     ]
    },
    {
     "name": "stderr",
     "output_type": "stream",
     "text": [
      "\r",
      " 47%|██████████████████████████████████████▎                                           | 14/30 [00:35<00:40,  2.52s/it]"
     ]
    },
    {
     "name": "stdout",
     "output_type": "stream",
     "text": [
      "Validation accuracy:  0.7182280319535223\n"
     ]
    },
    {
     "name": "stderr",
     "output_type": "stream",
     "text": [
      "\r",
      " 50%|█████████████████████████████████████████                                         | 15/30 [00:37<00:37,  2.51s/it]"
     ]
    },
    {
     "name": "stdout",
     "output_type": "stream",
     "text": [
      "itr: 14 \t loss: 1100.00 \t acc : 0.76\n",
      "Validation accuracy:  0.6891793754538852\n"
     ]
    },
    {
     "name": "stderr",
     "output_type": "stream",
     "text": [
      "\r",
      " 53%|███████████████████████████████████████████▋                                      | 16/30 [00:40<00:34,  2.50s/it]"
     ]
    },
    {
     "name": "stdout",
     "output_type": "stream",
     "text": [
      "Validation accuracy:  0.6143790849673203\n"
     ]
    },
    {
     "name": "stderr",
     "output_type": "stream",
     "text": [
      "\r",
      " 57%|██████████████████████████████████████████████▍                                   | 17/30 [00:42<00:32,  2.50s/it]"
     ]
    },
    {
     "name": "stdout",
     "output_type": "stream",
     "text": [
      "itr: 16 \t loss: 1063.01 \t acc : 0.78\n",
      "Validation accuracy:  0.5737109658678287\n"
     ]
    },
    {
     "name": "stderr",
     "output_type": "stream",
     "text": [
      "\r",
      " 60%|█████████████████████████████████████████████████▏                                | 18/30 [00:45<00:30,  2.50s/it]"
     ]
    },
    {
     "name": "stdout",
     "output_type": "stream",
     "text": [
      "Validation accuracy:  0.6310820624546115\n"
     ]
    },
    {
     "name": "stderr",
     "output_type": "stream",
     "text": [
      "\r",
      " 63%|███████████████████████████████████████████████████▉                              | 19/30 [00:47<00:27,  2.50s/it]"
     ]
    },
    {
     "name": "stdout",
     "output_type": "stream",
     "text": [
      "itr: 18 \t loss: 1026.96 \t acc : 0.80\n",
      "Validation accuracy:  0.5947712418300654\n"
     ]
    },
    {
     "name": "stderr",
     "output_type": "stream",
     "text": [
      "\r",
      " 67%|██████████████████████████████████████████████████████▋                           | 20/30 [00:50<00:25,  2.50s/it]"
     ]
    },
    {
     "name": "stdout",
     "output_type": "stream",
     "text": [
      "Validation accuracy:  0.6543209876543209\n"
     ]
    },
    {
     "name": "stderr",
     "output_type": "stream",
     "text": [
      "\r",
      " 70%|█████████████████████████████████████████████████████████▍                        | 21/30 [00:52<00:22,  2.51s/it]"
     ]
    },
    {
     "name": "stdout",
     "output_type": "stream",
     "text": [
      "itr: 20 \t loss: 991.89 \t acc : 0.81\n",
      "Validation accuracy:  0.6470588235294118\n"
     ]
    },
    {
     "name": "stderr",
     "output_type": "stream",
     "text": [
      "\r",
      " 73%|████████████████████████████████████████████████████████████▏                     | 22/30 [00:55<00:20,  2.51s/it]"
     ]
    },
    {
     "name": "stdout",
     "output_type": "stream",
     "text": [
      "Validation accuracy:  0.5570079883805373\n"
     ]
    },
    {
     "name": "stderr",
     "output_type": "stream",
     "text": [
      "\r",
      " 77%|██████████████████████████████████████████████████████████████▊                   | 23/30 [00:57<00:17,  2.51s/it]"
     ]
    },
    {
     "name": "stdout",
     "output_type": "stream",
     "text": [
      "itr: 22 \t loss: 957.75 \t acc : 0.83\n",
      "Validation accuracy:  0.5366739288307916\n"
     ]
    },
    {
     "name": "stderr",
     "output_type": "stream",
     "text": [
      "\r",
      " 80%|█████████████████████████████████████████████████████████████████▌                | 24/30 [01:00<00:15,  2.52s/it]"
     ]
    },
    {
     "name": "stdout",
     "output_type": "stream",
     "text": [
      "Validation accuracy:  0.6259985475671751\n"
     ]
    },
    {
     "name": "stderr",
     "output_type": "stream",
     "text": [
      "\r",
      " 83%|████████████████████████████████████████████████████████████████████▎             | 25/30 [01:02<00:12,  2.52s/it]"
     ]
    },
    {
     "name": "stdout",
     "output_type": "stream",
     "text": [
      "itr: 24 \t loss: 924.48 \t acc : 0.85\n",
      "Validation accuracy:  0.6223674655047203\n"
     ]
    },
    {
     "name": "stderr",
     "output_type": "stream",
     "text": [
      "\r",
      " 87%|███████████████████████████████████████████████████████████████████████           | 26/30 [01:05<00:10,  2.52s/it]"
     ]
    },
    {
     "name": "stdout",
     "output_type": "stream",
     "text": [
      "Validation accuracy:  0.5838779956427015\n"
     ]
    },
    {
     "name": "stderr",
     "output_type": "stream",
     "text": [
      "\r",
      " 90%|█████████████████████████████████████████████████████████████████████████▊        | 27/30 [01:07<00:07,  2.52s/it]"
     ]
    },
    {
     "name": "stdout",
     "output_type": "stream",
     "text": [
      "itr: 26 \t loss: 891.99 \t acc : 0.86\n",
      "Validation accuracy:  0.5896877269426289\n"
     ]
    },
    {
     "name": "stderr",
     "output_type": "stream",
     "text": [
      "\r",
      " 93%|████████████████████████████████████████████████████████████████████████████▌     | 28/30 [01:10<00:05,  2.53s/it]"
     ]
    },
    {
     "name": "stdout",
     "output_type": "stream",
     "text": [
      "Validation accuracy:  0.5591866376180102\n"
     ]
    },
    {
     "name": "stderr",
     "output_type": "stream",
     "text": [
      "\r",
      " 97%|███████████████████████████████████████████████████████████████████████████████▎  | 29/30 [01:12<00:02,  2.52s/it]"
     ]
    },
    {
     "name": "stdout",
     "output_type": "stream",
     "text": [
      "itr: 28 \t loss: 860.25 \t acc : 0.87\n",
      "Validation accuracy:  0.5482933914306464\n"
     ]
    },
    {
     "name": "stderr",
     "output_type": "stream",
     "text": [
      "100%|██████████████████████████████████████████████████████████████████████████████████| 30/30 [01:15<00:00,  2.52s/it]"
     ]
    },
    {
     "name": "stdout",
     "output_type": "stream",
     "text": [
      "Validation accuracy:  0.6470588235294118\n"
     ]
    },
    {
     "name": "stderr",
     "output_type": "stream",
     "text": [
      "\n"
     ]
    }
   ],
   "source": [
    "max_iters = 30\n",
    "batch_size =10\n",
    "learning_rate = (1e-4)\n",
    "hidden_size = 10\n",
    "hidden_size2 = 64\n",
    "batches = get_random_batches(traindesc,trainy,batch_size)\n",
    "batch_num = len(batches)\n",
    "paramsf = {}\n",
    "initialize_weights(13056,hidden_size,paramsf,'layer1')\n",
    "#initialize_weights(hidden_size,hidden_size2,paramsf,'layer2')\n",
    "initialize_weights(hidden_size,2,paramsf,'output')\n",
    "\n",
    "t=[]\n",
    "v=[]\n",
    "to=[]\n",
    "vo=[]\n",
    "best=0\n",
    "for itr in tqdm(range(max_iters)):\n",
    "    total_loss = 0\n",
    "    avg_acc=0\n",
    "    total_acc = 0\n",
    "    for xb,yb in batches:\n",
    "        h1 = forward(xb,paramsf,'layer1')\n",
    "        probs = forward(h1, paramsf,'output',softmax)\n",
    "\n",
    "  \n",
    "        loss, acc = compute_loss_and_acc(yb, probs)\n",
    "        #print('hello1')\n",
    "        total_loss =total_loss+ loss\n",
    "        avg_acc=avg_acc+acc\n",
    "\n",
    "        delta1 = probs - yb\n",
    "        delta2 = backwards(delta1, paramsf, 'output', linear_deriv)\n",
    "        backwards(delta2, paramsf, 'layer1', sigmoid_deriv)\n",
    "        #print('hello')\n",
    "        paramsf['Wlayer1']-=learning_rate* paramsf['grad_Wlayer1']\n",
    "        paramsf['blayer1']-=learning_rate*paramsf['grad_blayer1']\n",
    "        paramsf['Woutput']-=learning_rate*paramsf['grad_Woutput']\n",
    "        paramsf['boutput']-=learning_rate*paramsf['grad_boutput']\n",
    " \n",
    "    total_acc =avg_acc/ batch_num\n",
    "    t.append(total_acc)\n",
    "    to.append(total_loss)\n",
    "    if itr % 2 == 0:\n",
    "        print(\"itr: {:02d} \\t loss: {:.2f} \\t acc : {:.2f}\".format(itr,total_loss,total_acc))\n",
    "    \n",
    "    bv = get_random_batches(validxdesc,validy,validy.shape[0])\n",
    "    bnv = len(bv)\n",
    "    total_lossv = 0\n",
    "    avg_accv=0\n",
    "    total_accv = 0\n",
    "    for xbv,ybv in bv:\n",
    "        h1v = forward(xbv,paramsf,'layer1')\n",
    "        probs = forward(h1v, paramsf,'output',softmax)\n",
    "        loss, acc = compute_loss_and_acc(ybv, probs)\n",
    "        total_lossv =total_lossv+ loss\n",
    "        avg_accv=avg_accv+acc\n",
    "    valid_accv =avg_accv/ bnv\n",
    "    v.append(valid_accv)\n",
    "    vo.append(total_lossv)\n",
    "\n",
    "    print('Validation accuracy: ',valid_accv)\n",
    "    if valid_accv>best:\n",
    "        best=valid_accv\n",
    "        bestd=copy.copy(paramsf)"
   ]
  },
  {
   "cell_type": "code",
   "execution_count": 89,
   "id": "428da066",
   "metadata": {},
   "outputs": [],
   "source": [
    "itr=[]\n",
    "for i in range(1,31):\n",
    "    itr.append(i)"
   ]
  },
  {
   "cell_type": "code",
   "execution_count": 90,
   "id": "28844d01",
   "metadata": {},
   "outputs": [],
   "source": [
    "t=np.array(t)\n",
    "v=np.array(v)\n",
    "to=np.array(to)\n",
    "vo=np.array(vo)"
   ]
  },
  {
   "cell_type": "code",
   "execution_count": 91,
   "id": "90477832",
   "metadata": {},
   "outputs": [
    {
     "data": {
      "text/plain": [
       "<matplotlib.legend.Legend at 0x1a4d8b40e20>"
      ]
     },
     "execution_count": 91,
     "metadata": {},
     "output_type": "execute_result"
    },
    {
     "data": {
      "image/png": "[encoded data removed]",
      "text/plain": [
       "<Figure size 432x288 with 1 Axes>"
      ]
     },
     "metadata": {
      "needs_background": "light"
     },
     "output_type": "display_data"
    }
   ],
   "source": [
    "plt.plot(itr,t,'r',label='training acc')\n",
    "plt.plot(itr,v,'g',label='validation acc')\n",
    "plt.legend()"
   ]
  },
  {
   "cell_type": "code",
   "execution_count": 92,
   "id": "1713f7c5",
   "metadata": {},
   "outputs": [
    {
     "data": {
      "text/plain": [
       "<matplotlib.legend.Legend at 0x1a4d8bdff40>"
      ]
     },
     "execution_count": 92,
     "metadata": {},
     "output_type": "execute_result"
    },
    {
     "data": {
      "image/png": "[encoded data removed]",
      "text/plain": [
       "<Figure size 432x288 with 1 Axes>"
      ]
     },
     "metadata": {
      "needs_background": "light"
     },
     "output_type": "display_data"
    }
   ],
   "source": [
    "plt.plot(itr,to,'r',label='training loss')\n",
    "plt.plot(itr,vo,'g',label='validation loss')\n",
    "plt.legend()"
   ]
  },
  {
   "cell_type": "code",
   "execution_count": 93,
   "id": "45ee2cf5",
   "metadata": {},
   "outputs": [
    {
     "data": {
      "text/plain": [
       "0.7182280319535223"
      ]
     },
     "execution_count": 93,
     "metadata": {},
     "output_type": "execute_result"
    }
   ],
   "source": [
    "best"
   ]
  }
 ],
 "metadata": {
  "kernelspec": {
   "display_name": "Python 3 (ipykernel)",
   "language": "python",
   "name": "python3"
  },
  "language_info": {
   "codemirror_mode": {
    "name": "ipython",
    "version": 3
   },
   "file_extension": ".py",
   "mimetype": "text/x-python",
   "name": "python",
   "nbconvert_exporter": "python",
   "pygments_lexer": "ipython3",
   "version": "3.10.4"
  }
 },
 "nbformat": 4,
 "nbformat_minor": 5
}
